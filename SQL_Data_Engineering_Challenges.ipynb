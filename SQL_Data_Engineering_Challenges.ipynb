{
 "cells": [
  {
   "cell_type": "markdown",
   "source": "## SQL Data Engineering Challenges",
   "metadata": {
    "is_collapsed": false,
    "tags": [],
    "cell_id": "e4fee6eb-0c7c-42c9-89d8-0e3ee002fc12",
    "formattedRanges": [],
    "deepnote_cell_type": "text-cell-h2"
   }
  },
  {
   "cell_type": "markdown",
   "source": "Halo guys!.",
   "metadata": {
    "is_collapsed": false,
    "cell_id": "9a8fc819f2ed4b908d491f3b71f9e077",
    "tags": [],
    "formattedRanges": [
     {
      "type": "marks",
      "fromCodePoint": 0,
      "toCodePoint": 11,
      "marks": {
       "bold": true
      }
     }
    ],
    "deepnote_cell_type": "text-cell-p"
   }
  },
  {
   "cell_type": "markdown",
   "source": "Pada kesempatan kali ini aku akan membagikan pengalamanku ketika aku mengikuti pelatihan DQLab Academy Data Engineering melalui Digitalent program PROA Professional Academy yang diselenggarakan oleh KOMINFO.",
   "metadata": {
    "is_collapsed": false,
    "tags": [],
    "cell_id": "771a3a3a-128c-424b-a0f6-0cb0f0a165e8",
    "formattedRanges": [],
    "deepnote_cell_type": "text-cell-p"
   }
  },
  {
   "cell_type": "markdown",
   "source": "Dalam artikel ini, aku akan share bagaimana sih seorang junior data engineer bekerja?.\nMisalnya kita bekerja sebagai data engineer baru di sebuah perusahaan retail. Teman kita seorang data analis membutuhkan bantuan untuk mendapatkan data yang tersimpan di dalam database milik perusahaan. Sehingga kita diminta membuat SQL query untuk mendapatkan beberapa data dari database di kantor kita. \n\nSetelah berdiskusi dengan data analis tersebut, kita tahu ada beberapa pertanyaan yang harus di jawab dengan menggunakan data di dalam database kita. Pertanyaan ini berkaitan dengan performa perusahaan yang harus di sampaikan kepada investor.",
   "metadata": {
    "tags": [],
    "cell_id": "c804d5f9c2fd4456b343378c8fde65e1",
    "deepnote_cell_type": "markdown",
    "deepnote_cell_height": 178.4375
   }
  },
  {
   "cell_type": "code",
   "metadata": {
    "tags": [],
    "cell_id": "ee30df89926b44e9bf73cda2aa4f20bb",
    "source_hash": "89a09f23",
    "execution_start": 1661913568434,
    "execution_millis": 49899,
    "deepnote_to_be_reexecuted": false,
    "deepnote_cell_type": "code",
    "deepnote_cell_height": 202.15625
   },
   "source": "# data preparations ~ create data frame for querying\nimport pandas as pd\norders = pd.read_csv(\"./orders.csv\",sep=\",\")\ncustomers = pd.read_csv(\"./customers.csv\",sep=\",\")\nproducts = pd.read_csv(\"./products.csv\",sep=\",\")\ncountries = pd.read_csv(\"./countries.csv\",sep=\",\")\n\norders['invoice_date'] = pd.to_datetime(orders['invoice_date'])",
   "execution_count": 1,
   "outputs": []
  },
  {
   "cell_type": "markdown",
   "source": "## Step 1 - Memahami isi data\nKarena kita baru saja bekerja di perusahaan ini, kita masih belum mengerti ada apa saja data-data yang tersimpan di dalam data tersebut. Sehingga kita perlu melihat contoh data dari tiap tiap tabel tersebut.\n",
   "metadata": {
    "tags": [],
    "cell_id": "02b191d5e0d74c7488c504741ee19141",
    "deepnote_cell_type": "markdown",
    "deepnote_cell_height": 130.90625
   }
  },
  {
   "cell_type": "markdown",
   "source": "### Memanggil data tabel orders\nTampilkan lima baris data untuk tabel orders dan tampilkan semua kolom nya.",
   "metadata": {
    "tags": [],
    "cell_id": "4f43dde606a44193b5cf9dbbc1b05fcf",
    "deepnote_cell_type": "markdown",
    "deepnote_cell_height": 100.53125
   }
  },
  {
   "cell_type": "code",
   "metadata": {
    "tags": [],
    "cell_id": "c22cee40abaf4aefb38251632f2b7e4f",
    "source_hash": "ff755df5",
    "execution_start": 1661913618347,
    "execution_millis": 762,
    "sql_integration_id": "deepnote-dataframe-sql",
    "deepnote_sql_source": "SELECT * \nFROM orders\nLIMIT 5;",
    "deepnote_variable_name": "df_4",
    "deepnote_to_be_reexecuted": false,
    "deepnote_cell_type": "sql",
    "deepnote_cell_height": 466.296875
   },
   "source": "\n\ndf_4 = _deepnote_execute_sql(\"\"\"SELECT * \nFROM orders\nLIMIT 5;\n\"\"\", 'SQL_DEEPNOTE_DATAFRAME_SQL')\ndf_4",
   "execution_count": 2,
   "outputs": [
    {
     "output_type": "execute_result",
     "execution_count": 2,
     "data": {
      "application/vnd.deepnote.dataframe.v3+json": {
       "column_count": 6,
       "row_count": 5,
       "columns": [
        {
         "name": "invoice_id",
         "dtype": "int64",
         "stats": {
          "unique_count": 1,
          "nan_count": 0,
          "min": "539993",
          "max": "539993",
          "histogram": [
           {
            "bin_start": 539992.5,
            "bin_end": 539992.6,
            "count": 0
           },
           {
            "bin_start": 539992.6,
            "bin_end": 539992.7,
            "count": 0
           },
           {
            "bin_start": 539992.7,
            "bin_end": 539992.8,
            "count": 0
           },
           {
            "bin_start": 539992.8,
            "bin_end": 539992.9,
            "count": 0
           },
           {
            "bin_start": 539992.9,
            "bin_end": 539993,
            "count": 0
           },
           {
            "bin_start": 539993,
            "bin_end": 539993.1,
            "count": 5
           },
           {
            "bin_start": 539993.1,
            "bin_end": 539993.2,
            "count": 0
           },
           {
            "bin_start": 539993.2,
            "bin_end": 539993.3,
            "count": 0
           },
           {
            "bin_start": 539993.3,
            "bin_end": 539993.4,
            "count": 0
           },
           {
            "bin_start": 539993.4,
            "bin_end": 539993.5,
            "count": 0
           }
          ]
         }
        },
        {
         "name": "product_id",
         "dtype": "int64",
         "stats": {
          "unique_count": 5,
          "nan_count": 0,
          "min": "20718",
          "max": "22961",
          "histogram": [
           {
            "bin_start": 20718,
            "bin_end": 20942.3,
            "count": 1
           },
           {
            "bin_start": 20942.3,
            "bin_end": 21166.6,
            "count": 0
           },
           {
            "bin_start": 21166.6,
            "bin_end": 21390.9,
            "count": 0
           },
           {
            "bin_start": 21390.9,
            "bin_end": 21615.2,
            "count": 2
           },
           {
            "bin_start": 21615.2,
            "bin_end": 21839.5,
            "count": 0
           },
           {
            "bin_start": 21839.5,
            "bin_end": 22063.8,
            "count": 0
           },
           {
            "bin_start": 22063.8,
            "bin_end": 22288.1,
            "count": 0
           },
           {
            "bin_start": 22288.1,
            "bin_end": 22512.4,
            "count": 0
           },
           {
            "bin_start": 22512.4,
            "bin_end": 22736.7,
            "count": 0
           },
           {
            "bin_start": 22736.7,
            "bin_end": 22961,
            "count": 2
           }
          ]
         }
        },
        {
         "name": "quantity",
         "dtype": "int64",
         "stats": {
          "unique_count": 3,
          "nan_count": 0,
          "min": "1",
          "max": "24",
          "histogram": [
           {
            "bin_start": 1,
            "bin_end": 3.3,
            "count": 1
           },
           {
            "bin_start": 3.3,
            "bin_end": 5.6,
            "count": 3
           },
           {
            "bin_start": 5.6,
            "bin_end": 7.8999999999999995,
            "count": 0
           },
           {
            "bin_start": 7.8999999999999995,
            "bin_end": 10.2,
            "count": 0
           },
           {
            "bin_start": 10.2,
            "bin_end": 12.5,
            "count": 0
           },
           {
            "bin_start": 12.5,
            "bin_end": 14.799999999999999,
            "count": 0
           },
           {
            "bin_start": 14.799999999999999,
            "bin_end": 17.099999999999998,
            "count": 0
           },
           {
            "bin_start": 17.099999999999998,
            "bin_end": 19.4,
            "count": 0
           },
           {
            "bin_start": 19.4,
            "bin_end": 21.7,
            "count": 0
           },
           {
            "bin_start": 21.7,
            "bin_end": 24,
            "count": 1
           }
          ]
         }
        },
        {
         "name": "invoice_date",
         "dtype": "datetime64[ns]",
         "stats": {
          "unique_count": 5,
          "nan_count": 0,
          "min": "2021-04-23 11:04:00",
          "max": "2021-11-15 16:13:00",
          "histogram": [
           {
            "bin_start": 1619175840000000000,
            "bin_end": 1620957534000000000,
            "count": 2
           },
           {
            "bin_start": 1620957534000000000,
            "bin_end": 1622739228000000000,
            "count": 1
           },
           {
            "bin_start": 1622739228000000000,
            "bin_end": 1624520922000000000,
            "count": 0
           },
           {
            "bin_start": 1624520922000000000,
            "bin_end": 1626302616000000000,
            "count": 0
           },
           {
            "bin_start": 1626302616000000000,
            "bin_end": 1628084310000000000,
            "count": 0
           },
           {
            "bin_start": 1628084310000000000,
            "bin_end": 1629866004000000000,
            "count": 0
           },
           {
            "bin_start": 1629866004000000000,
            "bin_end": 1631647698000000000,
            "count": 0
           },
           {
            "bin_start": 1631647698000000000,
            "bin_end": 1633429392000000000,
            "count": 0
           },
           {
            "bin_start": 1633429392000000000,
            "bin_end": 1635211086000000000,
            "count": 1
           },
           {
            "bin_start": 1635211086000000000,
            "bin_end": 1636992780000000000,
            "count": 1
           }
          ]
         }
        },
        {
         "name": "customer_id",
         "dtype": "int64",
         "stats": {
          "unique_count": 5,
          "nan_count": 0,
          "min": "1301",
          "max": "1753",
          "histogram": [
           {
            "bin_start": 1301,
            "bin_end": 1346.2,
            "count": 3
           },
           {
            "bin_start": 1346.2,
            "bin_end": 1391.4,
            "count": 0
           },
           {
            "bin_start": 1391.4,
            "bin_end": 1436.6,
            "count": 1
           },
           {
            "bin_start": 1436.6,
            "bin_end": 1481.8,
            "count": 0
           },
           {
            "bin_start": 1481.8,
            "bin_end": 1527,
            "count": 0
           },
           {
            "bin_start": 1527,
            "bin_end": 1572.2,
            "count": 0
           },
           {
            "bin_start": 1572.2,
            "bin_end": 1617.4,
            "count": 0
           },
           {
            "bin_start": 1617.4,
            "bin_end": 1662.6,
            "count": 0
           },
           {
            "bin_start": 1662.6,
            "bin_end": 1707.8,
            "count": 0
           },
           {
            "bin_start": 1707.8,
            "bin_end": 1753,
            "count": 1
           }
          ]
         }
        },
        {
         "name": "country_id",
         "dtype": "int64",
         "stats": {
          "unique_count": 1,
          "nan_count": 0,
          "min": "34",
          "max": "34",
          "histogram": [
           {
            "bin_start": 33.5,
            "bin_end": 33.6,
            "count": 0
           },
           {
            "bin_start": 33.6,
            "bin_end": 33.7,
            "count": 0
           },
           {
            "bin_start": 33.7,
            "bin_end": 33.8,
            "count": 0
           },
           {
            "bin_start": 33.8,
            "bin_end": 33.9,
            "count": 0
           },
           {
            "bin_start": 33.9,
            "bin_end": 34,
            "count": 0
           },
           {
            "bin_start": 34,
            "bin_end": 34.1,
            "count": 5
           },
           {
            "bin_start": 34.1,
            "bin_end": 34.2,
            "count": 0
           },
           {
            "bin_start": 34.2,
            "bin_end": 34.3,
            "count": 0
           },
           {
            "bin_start": 34.3,
            "bin_end": 34.4,
            "count": 0
           },
           {
            "bin_start": 34.4,
            "bin_end": 34.5,
            "count": 0
           }
          ]
         }
        },
        {
         "name": "_deepnote_index_column",
         "dtype": "int64"
        }
       ],
       "rows": [
        {
         "invoice_id": "539993",
         "product_id": "21499",
         "quantity": "4",
         "invoice_date": "2021-05-16 16:31:00",
         "customer_id": "1340",
         "country_id": "34",
         "_deepnote_index_column": "0"
        },
        {
         "invoice_id": "539993",
         "product_id": "21498",
         "quantity": "24",
         "invoice_date": "2021-04-25 10:20:00",
         "customer_id": "1429",
         "country_id": "34",
         "_deepnote_index_column": "1"
        },
        {
         "invoice_id": "539993",
         "product_id": "20718",
         "quantity": "4",
         "invoice_date": "2021-04-23 11:04:00",
         "customer_id": "1320",
         "country_id": "34",
         "_deepnote_index_column": "2"
        },
        {
         "invoice_id": "539993",
         "product_id": "22961",
         "quantity": "4",
         "invoice_date": "2021-11-15 16:13:00",
         "customer_id": "1301",
         "country_id": "34",
         "_deepnote_index_column": "3"
        },
        {
         "invoice_id": "539993",
         "product_id": "22896",
         "quantity": "1",
         "invoice_date": "2021-10-24 20:16:00",
         "customer_id": "1753",
         "country_id": "34",
         "_deepnote_index_column": "4"
        }
       ]
      },
      "text/plain": "   invoice_id  product_id  quantity        invoice_date  customer_id  \\\n0      539993       21499         4 2021-05-16 16:31:00         1340   \n1      539993       21498        24 2021-04-25 10:20:00         1429   \n2      539993       20718         4 2021-04-23 11:04:00         1320   \n3      539993       22961         4 2021-11-15 16:13:00         1301   \n4      539993       22896         1 2021-10-24 20:16:00         1753   \n\n   country_id  \n0          34  \n1          34  \n2          34  \n3          34  \n4          34  ",
      "text/html": "<div>\n<style scoped>\n    .dataframe tbody tr th:only-of-type {\n        vertical-align: middle;\n    }\n\n    .dataframe tbody tr th {\n        vertical-align: top;\n    }\n\n    .dataframe thead th {\n        text-align: right;\n    }\n</style>\n<table border=\"1\" class=\"dataframe\">\n  <thead>\n    <tr style=\"text-align: right;\">\n      <th></th>\n      <th>invoice_id</th>\n      <th>product_id</th>\n      <th>quantity</th>\n      <th>invoice_date</th>\n      <th>customer_id</th>\n      <th>country_id</th>\n    </tr>\n  </thead>\n  <tbody>\n    <tr>\n      <th>0</th>\n      <td>539993</td>\n      <td>21499</td>\n      <td>4</td>\n      <td>2021-05-16 16:31:00</td>\n      <td>1340</td>\n      <td>34</td>\n    </tr>\n    <tr>\n      <th>1</th>\n      <td>539993</td>\n      <td>21498</td>\n      <td>24</td>\n      <td>2021-04-25 10:20:00</td>\n      <td>1429</td>\n      <td>34</td>\n    </tr>\n    <tr>\n      <th>2</th>\n      <td>539993</td>\n      <td>20718</td>\n      <td>4</td>\n      <td>2021-04-23 11:04:00</td>\n      <td>1320</td>\n      <td>34</td>\n    </tr>\n    <tr>\n      <th>3</th>\n      <td>539993</td>\n      <td>22961</td>\n      <td>4</td>\n      <td>2021-11-15 16:13:00</td>\n      <td>1301</td>\n      <td>34</td>\n    </tr>\n    <tr>\n      <th>4</th>\n      <td>539993</td>\n      <td>22896</td>\n      <td>1</td>\n      <td>2021-10-24 20:16:00</td>\n      <td>1753</td>\n      <td>34</td>\n    </tr>\n  </tbody>\n</table>\n</div>"
     },
     "metadata": {}
    }
   ]
  },
  {
   "cell_type": "code",
   "metadata": {
    "tags": [],
    "cell_id": "c3d0cea6623d48229d8febd28b90a9fd",
    "source_hash": "fb78a541",
    "execution_start": 1661913619156,
    "execution_millis": 126,
    "sql_integration_id": "deepnote-dataframe-sql",
    "deepnote_variable_name": "df_9",
    "deepnote_to_be_reexecuted": false,
    "deepnote_sql_source": "SELECT COUNT(DISTINCT invoice_id) AS Jumlah_Order\nFROM orders;",
    "deepnote_cell_type": "sql",
    "deepnote_cell_height": 284.328125
   },
   "source": "\n\ndf_9 = _deepnote_execute_sql(\"\"\"SELECT COUNT(DISTINCT invoice_id) AS Jumlah_Order\nFROM orders;\n\"\"\", 'SQL_DEEPNOTE_DATAFRAME_SQL')\ndf_9",
   "execution_count": 3,
   "outputs": [
    {
     "output_type": "execute_result",
     "execution_count": 3,
     "data": {
      "application/vnd.deepnote.dataframe.v3+json": {
       "column_count": 1,
       "row_count": 1,
       "columns": [
        {
         "name": "Jumlah_Order",
         "dtype": "int64",
         "stats": {
          "unique_count": 1,
          "nan_count": 0,
          "min": "15080",
          "max": "15080",
          "histogram": [
           {
            "bin_start": 15079.5,
            "bin_end": 15079.6,
            "count": 0
           },
           {
            "bin_start": 15079.6,
            "bin_end": 15079.7,
            "count": 0
           },
           {
            "bin_start": 15079.7,
            "bin_end": 15079.8,
            "count": 0
           },
           {
            "bin_start": 15079.8,
            "bin_end": 15079.9,
            "count": 0
           },
           {
            "bin_start": 15079.9,
            "bin_end": 15080,
            "count": 0
           },
           {
            "bin_start": 15080,
            "bin_end": 15080.1,
            "count": 1
           },
           {
            "bin_start": 15080.1,
            "bin_end": 15080.2,
            "count": 0
           },
           {
            "bin_start": 15080.2,
            "bin_end": 15080.3,
            "count": 0
           },
           {
            "bin_start": 15080.3,
            "bin_end": 15080.4,
            "count": 0
           },
           {
            "bin_start": 15080.4,
            "bin_end": 15080.5,
            "count": 0
           }
          ]
         }
        },
        {
         "name": "_deepnote_index_column",
         "dtype": "int64"
        }
       ],
       "rows": [
        {
         "Jumlah_Order": "15080",
         "_deepnote_index_column": "0"
        }
       ]
      },
      "text/plain": "   Jumlah_Order\n0         15080",
      "text/html": "<div>\n<style scoped>\n    .dataframe tbody tr th:only-of-type {\n        vertical-align: middle;\n    }\n\n    .dataframe tbody tr th {\n        vertical-align: top;\n    }\n\n    .dataframe thead th {\n        text-align: right;\n    }\n</style>\n<table border=\"1\" class=\"dataframe\">\n  <thead>\n    <tr style=\"text-align: right;\">\n      <th></th>\n      <th>Jumlah_Order</th>\n    </tr>\n  </thead>\n  <tbody>\n    <tr>\n      <th>0</th>\n      <td>15080</td>\n    </tr>\n  </tbody>\n</table>\n</div>"
     },
     "metadata": {}
    }
   ]
  },
  {
   "cell_type": "markdown",
   "source": "### Memanggil data tabel countries\nTampilkan lima baris data untuk tabel countries dan tampilkan semua kolom nya.",
   "metadata": {
    "tags": [],
    "cell_id": "cba2561296aa456794879dddd3919bc8",
    "deepnote_cell_type": "markdown",
    "deepnote_cell_height": 100.53125
   }
  },
  {
   "cell_type": "code",
   "metadata": {
    "tags": [],
    "cell_id": "5af4115520504ed5a0977957e3118e40",
    "source_hash": "c951d899",
    "execution_start": 1661913619282,
    "execution_millis": 88,
    "sql_integration_id": "deepnote-dataframe-sql",
    "deepnote_sql_source": "SELECT *\nFROM countries\nLIMIT 5;",
    "deepnote_variable_name": "df_2",
    "deepnote_to_be_reexecuted": false,
    "deepnote_cell_type": "sql",
    "deepnote_cell_height": 466.296875
   },
   "source": "\n\ndf_2 = _deepnote_execute_sql(\"\"\"SELECT *\nFROM countries\nLIMIT 5;\n\"\"\", 'SQL_DEEPNOTE_DATAFRAME_SQL')\ndf_2",
   "execution_count": 4,
   "outputs": [
    {
     "output_type": "execute_result",
     "execution_count": 4,
     "data": {
      "application/vnd.deepnote.dataframe.v3+json": {
       "column_count": 2,
       "row_count": 5,
       "columns": [
        {
         "name": "id",
         "dtype": "int64",
         "stats": {
          "unique_count": 5,
          "nan_count": 0,
          "min": "1",
          "max": "5",
          "histogram": [
           {
            "bin_start": 1,
            "bin_end": 1.4,
            "count": 1
           },
           {
            "bin_start": 1.4,
            "bin_end": 1.8,
            "count": 0
           },
           {
            "bin_start": 1.8,
            "bin_end": 2.2,
            "count": 1
           },
           {
            "bin_start": 2.2,
            "bin_end": 2.6,
            "count": 0
           },
           {
            "bin_start": 2.6,
            "bin_end": 3,
            "count": 0
           },
           {
            "bin_start": 3,
            "bin_end": 3.4000000000000004,
            "count": 1
           },
           {
            "bin_start": 3.4000000000000004,
            "bin_end": 3.8000000000000003,
            "count": 0
           },
           {
            "bin_start": 3.8000000000000003,
            "bin_end": 4.2,
            "count": 1
           },
           {
            "bin_start": 4.2,
            "bin_end": 4.6,
            "count": 0
           },
           {
            "bin_start": 4.6,
            "bin_end": 5,
            "count": 1
           }
          ]
         }
        },
        {
         "name": "name",
         "dtype": "object",
         "stats": {
          "unique_count": 5,
          "nan_count": 0,
          "categories": [
           {
            "name": "Australia",
            "count": 1
           },
           {
            "name": "Austria",
            "count": 1
           },
           {
            "name": "3 others",
            "count": 3
           }
          ]
         }
        },
        {
         "name": "_deepnote_index_column",
         "dtype": "int64"
        }
       ],
       "rows": [
        {
         "id": "1",
         "name": "Australia",
         "_deepnote_index_column": "0"
        },
        {
         "id": "2",
         "name": "Austria",
         "_deepnote_index_column": "1"
        },
        {
         "id": "3",
         "name": "Bahrain",
         "_deepnote_index_column": "2"
        },
        {
         "id": "4",
         "name": "Belgium",
         "_deepnote_index_column": "3"
        },
        {
         "id": "5",
         "name": "Brazil",
         "_deepnote_index_column": "4"
        }
       ]
      },
      "text/plain": "   id       name\n0   1  Australia\n1   2    Austria\n2   3    Bahrain\n3   4    Belgium\n4   5     Brazil",
      "text/html": "<div>\n<style scoped>\n    .dataframe tbody tr th:only-of-type {\n        vertical-align: middle;\n    }\n\n    .dataframe tbody tr th {\n        vertical-align: top;\n    }\n\n    .dataframe thead th {\n        text-align: right;\n    }\n</style>\n<table border=\"1\" class=\"dataframe\">\n  <thead>\n    <tr style=\"text-align: right;\">\n      <th></th>\n      <th>id</th>\n      <th>name</th>\n    </tr>\n  </thead>\n  <tbody>\n    <tr>\n      <th>0</th>\n      <td>1</td>\n      <td>Australia</td>\n    </tr>\n    <tr>\n      <th>1</th>\n      <td>2</td>\n      <td>Austria</td>\n    </tr>\n    <tr>\n      <th>2</th>\n      <td>3</td>\n      <td>Bahrain</td>\n    </tr>\n    <tr>\n      <th>3</th>\n      <td>4</td>\n      <td>Belgium</td>\n    </tr>\n    <tr>\n      <th>4</th>\n      <td>5</td>\n      <td>Brazil</td>\n    </tr>\n  </tbody>\n</table>\n</div>"
     },
     "metadata": {}
    }
   ]
  },
  {
   "cell_type": "markdown",
   "source": "### Memanggil data tabel products\nTampilkan lima baris data untuk tabel products dan tampilkan semua kolom nya.",
   "metadata": {
    "tags": [],
    "cell_id": "8ceee3010e5c4ae9a7a49a08ec021eeb",
    "deepnote_cell_type": "markdown",
    "deepnote_cell_height": 100.53125
   }
  },
  {
   "cell_type": "code",
   "metadata": {
    "tags": [],
    "cell_id": "01e1ebad54c344b894049b1dd05efb92",
    "source_hash": "dd5c0c08",
    "execution_start": 1661913619416,
    "execution_millis": 89,
    "sql_integration_id": "deepnote-dataframe-sql",
    "deepnote_sql_source": "SELECT *\nFROM products\nLIMIT 5;",
    "deepnote_variable_name": "df_3",
    "deepnote_to_be_reexecuted": false,
    "deepnote_cell_type": "sql",
    "deepnote_cell_height": 466.296875
   },
   "source": "\n\ndf_3 = _deepnote_execute_sql(\"\"\"SELECT *\nFROM products\nLIMIT 5;\n\"\"\", 'SQL_DEEPNOTE_DATAFRAME_SQL')\ndf_3",
   "execution_count": 5,
   "outputs": [
    {
     "output_type": "execute_result",
     "execution_count": 5,
     "data": {
      "application/vnd.deepnote.dataframe.v3+json": {
       "column_count": 3,
       "row_count": 5,
       "columns": [
        {
         "name": "id",
         "dtype": "int64",
         "stats": {
          "unique_count": 5,
          "nan_count": 0,
          "min": "10002",
          "max": "10135",
          "histogram": [
           {
            "bin_start": 10002,
            "bin_end": 10015.3,
            "count": 1
           },
           {
            "bin_start": 10015.3,
            "bin_end": 10028.6,
            "count": 0
           },
           {
            "bin_start": 10028.6,
            "bin_end": 10041.9,
            "count": 0
           },
           {
            "bin_start": 10041.9,
            "bin_end": 10055.2,
            "count": 0
           },
           {
            "bin_start": 10055.2,
            "bin_end": 10068.5,
            "count": 0
           },
           {
            "bin_start": 10068.5,
            "bin_end": 10081.8,
            "count": 0
           },
           {
            "bin_start": 10081.8,
            "bin_end": 10095.1,
            "count": 0
           },
           {
            "bin_start": 10095.1,
            "bin_end": 10108.4,
            "count": 0
           },
           {
            "bin_start": 10108.4,
            "bin_end": 10121.7,
            "count": 1
           },
           {
            "bin_start": 10121.7,
            "bin_end": 10135,
            "count": 3
           }
          ]
         }
        },
        {
         "name": "name",
         "dtype": "object",
         "stats": {
          "unique_count": 4,
          "nan_count": 0,
          "categories": [
           {
            "name": "COLOURING PENCILS BROWN TUBE",
            "count": 2
           },
           {
            "name": "INFLATABLE POLITICAL GLOBE ",
            "count": 1
           },
           {
            "name": "2 others",
            "count": 2
           }
          ]
         }
        },
        {
         "name": "price",
         "dtype": "float64",
         "stats": {
          "unique_count": 5,
          "nan_count": 0,
          "min": "0.21",
          "max": "1.410166667",
          "histogram": [
           {
            "bin_start": 0.21,
            "bin_end": 0.33001666669999996,
            "count": 1
           },
           {
            "bin_start": 0.33001666669999996,
            "bin_end": 0.45003333339999996,
            "count": 0
           },
           {
            "bin_start": 0.45003333339999996,
            "bin_end": 0.5700500001,
            "count": 0
           },
           {
            "bin_start": 0.5700500001,
            "bin_end": 0.6900666668,
            "count": 1
           },
           {
            "bin_start": 0.6900666668,
            "bin_end": 0.8100833335,
            "count": 0
           },
           {
            "bin_start": 0.8100833335,
            "bin_end": 0.9301000001999999,
            "count": 1
           },
           {
            "bin_start": 0.9301000001999999,
            "bin_end": 1.0501166669,
            "count": 0
           },
           {
            "bin_start": 1.0501166669,
            "bin_end": 1.1701333336,
            "count": 1
           },
           {
            "bin_start": 1.1701333336,
            "bin_end": 1.2901500003,
            "count": 0
           },
           {
            "bin_start": 1.2901500003,
            "bin_end": 1.410166667,
            "count": 1
           }
          ]
         }
        },
        {
         "name": "_deepnote_index_column",
         "dtype": "int64"
        }
       ],
       "rows": [
        {
         "id": "10002",
         "name": "INFLATABLE POLITICAL GLOBE ",
         "price": "1.086619718",
         "_deepnote_index_column": "0"
        },
        {
         "id": "10120",
         "name": "DOGGY RUBBER",
         "price": "0.21",
         "_deepnote_index_column": "1"
        },
        {
         "id": "10125",
         "name": "MINI FUNKY DESIGN TAPES",
         "price": "0.859680851",
         "_deepnote_index_column": "2"
        },
        {
         "id": "10133",
         "name": "COLOURING PENCILS BROWN TUBE",
         "price": "0.649045226",
         "_deepnote_index_column": "3"
        },
        {
         "id": "10135",
         "name": "COLOURING PENCILS BROWN TUBE",
         "price": "1.410166667",
         "_deepnote_index_column": "4"
        }
       ]
      },
      "text/plain": "      id                          name     price\n0  10002   INFLATABLE POLITICAL GLOBE   1.086620\n1  10120                  DOGGY RUBBER  0.210000\n2  10125       MINI FUNKY DESIGN TAPES  0.859681\n3  10133  COLOURING PENCILS BROWN TUBE  0.649045\n4  10135  COLOURING PENCILS BROWN TUBE  1.410167",
      "text/html": "<div>\n<style scoped>\n    .dataframe tbody tr th:only-of-type {\n        vertical-align: middle;\n    }\n\n    .dataframe tbody tr th {\n        vertical-align: top;\n    }\n\n    .dataframe thead th {\n        text-align: right;\n    }\n</style>\n<table border=\"1\" class=\"dataframe\">\n  <thead>\n    <tr style=\"text-align: right;\">\n      <th></th>\n      <th>id</th>\n      <th>name</th>\n      <th>price</th>\n    </tr>\n  </thead>\n  <tbody>\n    <tr>\n      <th>0</th>\n      <td>10002</td>\n      <td>INFLATABLE POLITICAL GLOBE</td>\n      <td>1.086620</td>\n    </tr>\n    <tr>\n      <th>1</th>\n      <td>10120</td>\n      <td>DOGGY RUBBER</td>\n      <td>0.210000</td>\n    </tr>\n    <tr>\n      <th>2</th>\n      <td>10125</td>\n      <td>MINI FUNKY DESIGN TAPES</td>\n      <td>0.859681</td>\n    </tr>\n    <tr>\n      <th>3</th>\n      <td>10133</td>\n      <td>COLOURING PENCILS BROWN TUBE</td>\n      <td>0.649045</td>\n    </tr>\n    <tr>\n      <th>4</th>\n      <td>10135</td>\n      <td>COLOURING PENCILS BROWN TUBE</td>\n      <td>1.410167</td>\n    </tr>\n  </tbody>\n</table>\n</div>"
     },
     "metadata": {}
    }
   ]
  },
  {
   "cell_type": "code",
   "metadata": {
    "tags": [],
    "cell_id": "44a5d697125f466e9806aaedca852b48",
    "source_hash": "a9c191dc",
    "execution_start": 1661913619505,
    "execution_millis": 59,
    "sql_integration_id": "deepnote-dataframe-sql",
    "deepnote_variable_name": "df_10",
    "deepnote_to_be_reexecuted": false,
    "deepnote_sql_source": "SELECT COUNT(products.id) AS Jumlah_Produk\nFROM products;",
    "deepnote_cell_type": "sql",
    "deepnote_cell_height": 284.328125
   },
   "source": "\n\ndf_10 = _deepnote_execute_sql(\"\"\"SELECT COUNT(products.id) AS Jumlah_Produk\nFROM products;\n\"\"\", 'SQL_DEEPNOTE_DATAFRAME_SQL')\ndf_10",
   "execution_count": 6,
   "outputs": [
    {
     "output_type": "execute_result",
     "execution_count": 6,
     "data": {
      "application/vnd.deepnote.dataframe.v3+json": {
       "column_count": 1,
       "row_count": 1,
       "columns": [
        {
         "name": "Jumlah_Produk",
         "dtype": "int64",
         "stats": {
          "unique_count": 1,
          "nan_count": 0,
          "min": "2498",
          "max": "2498",
          "histogram": [
           {
            "bin_start": 2497.5,
            "bin_end": 2497.6,
            "count": 0
           },
           {
            "bin_start": 2497.6,
            "bin_end": 2497.7,
            "count": 0
           },
           {
            "bin_start": 2497.7,
            "bin_end": 2497.8,
            "count": 0
           },
           {
            "bin_start": 2497.8,
            "bin_end": 2497.9,
            "count": 0
           },
           {
            "bin_start": 2497.9,
            "bin_end": 2498,
            "count": 0
           },
           {
            "bin_start": 2498,
            "bin_end": 2498.1,
            "count": 1
           },
           {
            "bin_start": 2498.1,
            "bin_end": 2498.2,
            "count": 0
           },
           {
            "bin_start": 2498.2,
            "bin_end": 2498.3,
            "count": 0
           },
           {
            "bin_start": 2498.3,
            "bin_end": 2498.4,
            "count": 0
           },
           {
            "bin_start": 2498.4,
            "bin_end": 2498.5,
            "count": 0
           }
          ]
         }
        },
        {
         "name": "_deepnote_index_column",
         "dtype": "int64"
        }
       ],
       "rows": [
        {
         "Jumlah_Produk": "2498",
         "_deepnote_index_column": "0"
        }
       ]
      },
      "text/plain": "   Jumlah_Produk\n0           2498",
      "text/html": "<div>\n<style scoped>\n    .dataframe tbody tr th:only-of-type {\n        vertical-align: middle;\n    }\n\n    .dataframe tbody tr th {\n        vertical-align: top;\n    }\n\n    .dataframe thead th {\n        text-align: right;\n    }\n</style>\n<table border=\"1\" class=\"dataframe\">\n  <thead>\n    <tr style=\"text-align: right;\">\n      <th></th>\n      <th>Jumlah_Produk</th>\n    </tr>\n  </thead>\n  <tbody>\n    <tr>\n      <th>0</th>\n      <td>2498</td>\n    </tr>\n  </tbody>\n</table>\n</div>"
     },
     "metadata": {}
    }
   ]
  },
  {
   "cell_type": "markdown",
   "source": "### Memanggil data tabel customers\nTampilkan lima baris data untuk tabel customers dan tampilkan semua kolom nya.",
   "metadata": {
    "tags": [],
    "cell_id": "8662174831d8497f9806ef74d0204928",
    "deepnote_cell_type": "markdown",
    "deepnote_cell_height": 100.53125
   }
  },
  {
   "cell_type": "code",
   "metadata": {
    "tags": [],
    "cell_id": "21392fd5737a45959a767ce387f5379e",
    "source_hash": "8b150039",
    "execution_start": 1661913619568,
    "execution_millis": 143,
    "sql_integration_id": "deepnote-dataframe-sql",
    "deepnote_variable_name": "df_5",
    "deepnote_to_be_reexecuted": false,
    "deepnote_sql_source": "SELECT *\nFROM customers\nLIMIT 5;",
    "deepnote_cell_type": "sql",
    "deepnote_cell_height": 466.296875
   },
   "source": "\n\ndf_5 = _deepnote_execute_sql(\"\"\"SELECT *\nFROM customers\nLIMIT 5;\n\"\"\", 'SQL_DEEPNOTE_DATAFRAME_SQL')\ndf_5",
   "execution_count": 7,
   "outputs": [
    {
     "output_type": "execute_result",
     "execution_count": 7,
     "data": {
      "application/vnd.deepnote.dataframe.v3+json": {
       "column_count": 5,
       "row_count": 5,
       "columns": [
        {
         "name": "id",
         "dtype": "int64",
         "stats": {
          "unique_count": 5,
          "nan_count": 0,
          "min": "1234",
          "max": "1238",
          "histogram": [
           {
            "bin_start": 1234,
            "bin_end": 1234.4,
            "count": 1
           },
           {
            "bin_start": 1234.4,
            "bin_end": 1234.8,
            "count": 0
           },
           {
            "bin_start": 1234.8,
            "bin_end": 1235.2,
            "count": 1
           },
           {
            "bin_start": 1235.2,
            "bin_end": 1235.6,
            "count": 0
           },
           {
            "bin_start": 1235.6,
            "bin_end": 1236,
            "count": 0
           },
           {
            "bin_start": 1236,
            "bin_end": 1236.4,
            "count": 1
           },
           {
            "bin_start": 1236.4,
            "bin_end": 1236.8,
            "count": 0
           },
           {
            "bin_start": 1236.8,
            "bin_end": 1237.2,
            "count": 1
           },
           {
            "bin_start": 1237.2,
            "bin_end": 1237.6,
            "count": 0
           },
           {
            "bin_start": 1237.6,
            "bin_end": 1238,
            "count": 1
           }
          ]
         }
        },
        {
         "name": "first_name",
         "dtype": "object",
         "stats": {
          "unique_count": 5,
          "nan_count": 0,
          "categories": [
           {
            "name": "Murry",
            "count": 1
           },
           {
            "name": "Haley",
            "count": 1
           },
           {
            "name": "3 others",
            "count": 3
           }
          ]
         }
        },
        {
         "name": "last_name",
         "dtype": "object",
         "stats": {
          "unique_count": 5,
          "nan_count": 0,
          "categories": [
           {
            "name": "Roath",
            "count": 1
           },
           {
            "name": "Davitt",
            "count": 1
           },
           {
            "name": "3 others",
            "count": 3
           }
          ]
         }
        },
        {
         "name": "email",
         "dtype": "object",
         "stats": {
          "unique_count": 5,
          "nan_count": 0,
          "categories": [
           {
            "name": "mroath0@reference.com",
            "count": 1
           },
           {
            "name": "hdavitt1@t-online.de",
            "count": 1
           },
           {
            "name": "3 others",
            "count": 3
           }
          ]
         }
        },
        {
         "name": "gender",
         "dtype": "object",
         "stats": {
          "unique_count": 2,
          "nan_count": 0,
          "categories": [
           {
            "name": "Male",
            "count": 3
           },
           {
            "name": "Female",
            "count": 2
           }
          ]
         }
        },
        {
         "name": "_deepnote_index_column",
         "dtype": "int64"
        }
       ],
       "rows": [
        {
         "id": "1234",
         "first_name": "Murry",
         "last_name": "Roath",
         "email": "mroath0@reference.com",
         "gender": "Male",
         "_deepnote_index_column": "0"
        },
        {
         "id": "1235",
         "first_name": "Haley",
         "last_name": "Davitt",
         "email": "hdavitt1@t-online.de",
         "gender": "Female",
         "_deepnote_index_column": "1"
        },
        {
         "id": "1236",
         "first_name": "Wilbur",
         "last_name": "Firth",
         "email": "wfirth2@amazon.de",
         "gender": "Male",
         "_deepnote_index_column": "2"
        },
        {
         "id": "1237",
         "first_name": "Ephraim",
         "last_name": "Bremmell",
         "email": "ebremmell3@globo.com",
         "gender": "Male",
         "_deepnote_index_column": "3"
        },
        {
         "id": "1238",
         "first_name": "Melita",
         "last_name": "Dyment",
         "email": "mdyment4@infoseek.co.jp",
         "gender": "Female",
         "_deepnote_index_column": "4"
        }
       ]
      },
      "text/plain": "     id first_name last_name                    email  gender\n0  1234      Murry     Roath    mroath0@reference.com    Male\n1  1235      Haley    Davitt     hdavitt1@t-online.de  Female\n2  1236     Wilbur     Firth        wfirth2@amazon.de    Male\n3  1237    Ephraim  Bremmell     ebremmell3@globo.com    Male\n4  1238     Melita    Dyment  mdyment4@infoseek.co.jp  Female",
      "text/html": "<div>\n<style scoped>\n    .dataframe tbody tr th:only-of-type {\n        vertical-align: middle;\n    }\n\n    .dataframe tbody tr th {\n        vertical-align: top;\n    }\n\n    .dataframe thead th {\n        text-align: right;\n    }\n</style>\n<table border=\"1\" class=\"dataframe\">\n  <thead>\n    <tr style=\"text-align: right;\">\n      <th></th>\n      <th>id</th>\n      <th>first_name</th>\n      <th>last_name</th>\n      <th>email</th>\n      <th>gender</th>\n    </tr>\n  </thead>\n  <tbody>\n    <tr>\n      <th>0</th>\n      <td>1234</td>\n      <td>Murry</td>\n      <td>Roath</td>\n      <td>mroath0@reference.com</td>\n      <td>Male</td>\n    </tr>\n    <tr>\n      <th>1</th>\n      <td>1235</td>\n      <td>Haley</td>\n      <td>Davitt</td>\n      <td>hdavitt1@t-online.de</td>\n      <td>Female</td>\n    </tr>\n    <tr>\n      <th>2</th>\n      <td>1236</td>\n      <td>Wilbur</td>\n      <td>Firth</td>\n      <td>wfirth2@amazon.de</td>\n      <td>Male</td>\n    </tr>\n    <tr>\n      <th>3</th>\n      <td>1237</td>\n      <td>Ephraim</td>\n      <td>Bremmell</td>\n      <td>ebremmell3@globo.com</td>\n      <td>Male</td>\n    </tr>\n    <tr>\n      <th>4</th>\n      <td>1238</td>\n      <td>Melita</td>\n      <td>Dyment</td>\n      <td>mdyment4@infoseek.co.jp</td>\n      <td>Female</td>\n    </tr>\n  </tbody>\n</table>\n</div>"
     },
     "metadata": {}
    }
   ]
  },
  {
   "cell_type": "code",
   "metadata": {
    "tags": [],
    "cell_id": "916fc098ab174c2ca4126721cc718aa4",
    "source_hash": "8a208aa0",
    "execution_start": 1661913619709,
    "execution_millis": 55,
    "sql_integration_id": "deepnote-dataframe-sql",
    "deepnote_variable_name": "df_11",
    "deepnote_to_be_reexecuted": false,
    "deepnote_sql_source": "SELECT COUNT(DISTINCT customers.id) AS Jumlah_Customer\nFROM customers;",
    "deepnote_cell_type": "sql",
    "deepnote_cell_height": 284.328125
   },
   "source": "\n\ndf_11 = _deepnote_execute_sql(\"\"\"SELECT COUNT(DISTINCT customers.id) AS Jumlah_Customer\nFROM customers;\n\"\"\", 'SQL_DEEPNOTE_DATAFRAME_SQL')\ndf_11",
   "execution_count": 8,
   "outputs": [
    {
     "output_type": "execute_result",
     "execution_count": 8,
     "data": {
      "application/vnd.deepnote.dataframe.v3+json": {
       "column_count": 1,
       "row_count": 1,
       "columns": [
        {
         "name": "Jumlah_Customer",
         "dtype": "int64",
         "stats": {
          "unique_count": 1,
          "nan_count": 0,
          "min": "595",
          "max": "595",
          "histogram": [
           {
            "bin_start": 594.5,
            "bin_end": 594.6,
            "count": 0
           },
           {
            "bin_start": 594.6,
            "bin_end": 594.7,
            "count": 0
           },
           {
            "bin_start": 594.7,
            "bin_end": 594.8,
            "count": 0
           },
           {
            "bin_start": 594.8,
            "bin_end": 594.9,
            "count": 0
           },
           {
            "bin_start": 594.9,
            "bin_end": 595,
            "count": 0
           },
           {
            "bin_start": 595,
            "bin_end": 595.1,
            "count": 1
           },
           {
            "bin_start": 595.1,
            "bin_end": 595.2,
            "count": 0
           },
           {
            "bin_start": 595.2,
            "bin_end": 595.3,
            "count": 0
           },
           {
            "bin_start": 595.3,
            "bin_end": 595.4,
            "count": 0
           },
           {
            "bin_start": 595.4,
            "bin_end": 595.5,
            "count": 0
           }
          ]
         }
        },
        {
         "name": "_deepnote_index_column",
         "dtype": "int64"
        }
       ],
       "rows": [
        {
         "Jumlah_Customer": "595",
         "_deepnote_index_column": "0"
        }
       ]
      },
      "text/plain": "   Jumlah_Customer\n0              595",
      "text/html": "<div>\n<style scoped>\n    .dataframe tbody tr th:only-of-type {\n        vertical-align: middle;\n    }\n\n    .dataframe tbody tr th {\n        vertical-align: top;\n    }\n\n    .dataframe thead th {\n        text-align: right;\n    }\n</style>\n<table border=\"1\" class=\"dataframe\">\n  <thead>\n    <tr style=\"text-align: right;\">\n      <th></th>\n      <th>Jumlah_Customer</th>\n    </tr>\n  </thead>\n  <tbody>\n    <tr>\n      <th>0</th>\n      <td>595</td>\n    </tr>\n  </tbody>\n</table>\n</div>"
     },
     "metadata": {}
    }
   ]
  },
  {
   "cell_type": "markdown",
   "source": "## Step 2 - Analisa data\nSetelah kita memahami apa-apa saja data yang tersedia di database kita. Saatnya untuk mempersiapkan data yang dapat di gunakan untuk pembuatan laporan performa perusahaan. Beberapa poin yang harus di persiapkan diantaranya:\n\n- Ada berapa total nilai penjualan sepanjang waktu?\n- Bagaimana trend nilai penjualan dari bulan ke bulan?\n- Berapa jumlah transaksi yang sudah terjadi?\n- Berapa jumlah transaksi dari bulan ke bulan?\n- Berapa jumlah total nilai per transaksi sepanjang waktu?\n- Tampilkan tiga negara teratas yang memiliki nilai transaksi terbanyak?\n- Tampilkan lima buah produk yang paling banyak terjual?\n- Negara mana yang memiliki penjualan paling sedikit?\n- Kapan penjualan terbesar per hari terjadi?\n- Siapa yang paling banyak berbelanja pada bulan November 2021?\n\n\n",
   "metadata": {
    "tags": [],
    "cell_id": "a87ccb2e24144f72a5894d133f330e7c",
    "deepnote_cell_type": "markdown",
    "deepnote_cell_height": 409.5625
   }
  },
  {
   "cell_type": "markdown",
   "source": "### -- Ada berapa total nilai penjualan sepanjang waktu?",
   "metadata": {
    "formattedRanges": [],
    "tags": [],
    "cell_id": "68c83916fd7b4283936a4409f5253c84",
    "is_collapsed": false,
    "deepnote_cell_type": "text-cell-h3"
   }
  },
  {
   "cell_type": "code",
   "metadata": {
    "tags": [],
    "cell_id": "91e0ee38fbc24a0eafdb04397fd1809d",
    "source_hash": "81e72e3e",
    "execution_start": 1661913619773,
    "execution_millis": 85,
    "sql_integration_id": "deepnote-dataframe-sql",
    "deepnote_variable_name": "df_5",
    "deepnote_to_be_reexecuted": false,
    "deepnote_sql_source": "SELECT SUM(orders.quantity * products.price) as total_nilai_penjualan\nFROM orders\nJOIN products ON products.id = orders.product_id;",
    "deepnote_cell_type": "sql",
    "deepnote_cell_height": 302.34375
   },
   "source": "\n\ndf_5 = _deepnote_execute_sql(\"\"\"SELECT SUM(orders.quantity * products.price) as total_nilai_penjualan\nFROM orders\nJOIN products ON products.id = orders.product_id;\n\"\"\", 'SQL_DEEPNOTE_DATAFRAME_SQL')\ndf_5",
   "execution_count": 9,
   "outputs": [
    {
     "output_type": "execute_result",
     "execution_count": 9,
     "data": {
      "application/vnd.deepnote.dataframe.v3+json": {
       "column_count": 1,
       "row_count": 1,
       "columns": [
        {
         "name": "total_nilai_penjualan",
         "dtype": "float64",
         "stats": {
          "unique_count": 1,
          "nan_count": 0,
          "min": "12924423.2874603",
          "max": "12924423.2874603",
          "histogram": [
           {
            "bin_start": 12924422.7874603,
            "bin_end": 12924422.887460299,
            "count": 0
           },
           {
            "bin_start": 12924422.887460299,
            "bin_end": 12924422.987460298,
            "count": 0
           },
           {
            "bin_start": 12924422.987460298,
            "bin_end": 12924423.0874603,
            "count": 0
           },
           {
            "bin_start": 12924423.0874603,
            "bin_end": 12924423.1874603,
            "count": 0
           },
           {
            "bin_start": 12924423.1874603,
            "bin_end": 12924423.2874603,
            "count": 0
           },
           {
            "bin_start": 12924423.2874603,
            "bin_end": 12924423.387460299,
            "count": 1
           },
           {
            "bin_start": 12924423.387460299,
            "bin_end": 12924423.487460298,
            "count": 0
           },
           {
            "bin_start": 12924423.487460298,
            "bin_end": 12924423.5874603,
            "count": 0
           },
           {
            "bin_start": 12924423.5874603,
            "bin_end": 12924423.6874603,
            "count": 0
           },
           {
            "bin_start": 12924423.6874603,
            "bin_end": 12924423.7874603,
            "count": 0
           }
          ]
         }
        },
        {
         "name": "_deepnote_index_column",
         "dtype": "int64"
        }
       ],
       "rows": [
        {
         "total_nilai_penjualan": "12924423.2874603",
         "_deepnote_index_column": "0"
        }
       ]
      },
      "text/plain": "   total_nilai_penjualan\n0           1.292442e+07",
      "text/html": "<div>\n<style scoped>\n    .dataframe tbody tr th:only-of-type {\n        vertical-align: middle;\n    }\n\n    .dataframe tbody tr th {\n        vertical-align: top;\n    }\n\n    .dataframe thead th {\n        text-align: right;\n    }\n</style>\n<table border=\"1\" class=\"dataframe\">\n  <thead>\n    <tr style=\"text-align: right;\">\n      <th></th>\n      <th>total_nilai_penjualan</th>\n    </tr>\n  </thead>\n  <tbody>\n    <tr>\n      <th>0</th>\n      <td>1.292442e+07</td>\n    </tr>\n  </tbody>\n</table>\n</div>"
     },
     "metadata": {}
    }
   ]
  },
  {
   "cell_type": "markdown",
   "source": "### -- Bagaimana trend nilai penjualan dari bulan ke bulan?",
   "metadata": {
    "formattedRanges": [],
    "tags": [],
    "cell_id": "3812d5e279e943eeb9e35110c6c2854f",
    "is_collapsed": false,
    "deepnote_cell_type": "text-cell-h3"
   }
  },
  {
   "cell_type": "code",
   "metadata": {
    "tags": [],
    "cell_id": "41ee55da683a4f34935c00eef68dab14",
    "source_hash": "86c3681a",
    "execution_start": 1661913619866,
    "execution_millis": 132,
    "sql_integration_id": "deepnote-dataframe-sql",
    "deepnote_variable_name": "df_6",
    "deepnote_to_be_reexecuted": false,
    "deepnote_sql_source": "SELECT \n    MONTH(orders.invoice_date) as bulan,\n    SUM(orders.quantity * products.price) as total_nilai_penjualan\nFROM orders\nJOIN products ON products.id = orders.product_id\nGROUP BY MONTH(orders.invoice_date);",
    "deepnote_cell_type": "sql",
    "deepnote_cell_height": 725.234375
   },
   "source": "\n\ndf_6 = _deepnote_execute_sql(\"\"\"SELECT \n    MONTH(orders.invoice_date) as bulan,\n    SUM(orders.quantity * products.price) as total_nilai_penjualan\nFROM orders\nJOIN products ON products.id = orders.product_id\nGROUP BY MONTH(orders.invoice_date);\n\"\"\", 'SQL_DEEPNOTE_DATAFRAME_SQL')\ndf_6",
   "execution_count": 10,
   "outputs": [
    {
     "output_type": "execute_result",
     "execution_count": 10,
     "data": {
      "application/vnd.deepnote.dataframe.v3+json": {
       "column_count": 2,
       "row_count": 12,
       "columns": [
        {
         "name": "bulan",
         "dtype": "int64",
         "stats": {
          "unique_count": 12,
          "nan_count": 0,
          "min": "1",
          "max": "12",
          "histogram": [
           {
            "bin_start": 1,
            "bin_end": 2.1,
            "count": 2
           },
           {
            "bin_start": 2.1,
            "bin_end": 3.2,
            "count": 1
           },
           {
            "bin_start": 3.2,
            "bin_end": 4.300000000000001,
            "count": 1
           },
           {
            "bin_start": 4.300000000000001,
            "bin_end": 5.4,
            "count": 1
           },
           {
            "bin_start": 5.4,
            "bin_end": 6.5,
            "count": 1
           },
           {
            "bin_start": 6.5,
            "bin_end": 7.6000000000000005,
            "count": 1
           },
           {
            "bin_start": 7.6000000000000005,
            "bin_end": 8.700000000000001,
            "count": 1
           },
           {
            "bin_start": 8.700000000000001,
            "bin_end": 9.8,
            "count": 1
           },
           {
            "bin_start": 9.8,
            "bin_end": 10.9,
            "count": 1
           },
           {
            "bin_start": 10.9,
            "bin_end": 12,
            "count": 2
           }
          ]
         }
        },
        {
         "name": "total_nilai_penjualan",
         "dtype": "float64",
         "stats": {
          "unique_count": 12,
          "nan_count": 0,
          "min": "428572.3943667908",
          "max": "1841619.783449865",
          "histogram": [
           {
            "bin_start": 428572.3943667908,
            "bin_end": 569877.1332750982,
            "count": 1
           },
           {
            "bin_start": 569877.1332750982,
            "bin_end": 711181.8721834056,
            "count": 0
           },
           {
            "bin_start": 711181.8721834056,
            "bin_end": 852486.6110917131,
            "count": 3
           },
           {
            "bin_start": 852486.6110917131,
            "bin_end": 993791.3500000205,
            "count": 2
           },
           {
            "bin_start": 993791.3500000205,
            "bin_end": 1135096.0889083277,
            "count": 3
           },
           {
            "bin_start": 1135096.0889083277,
            "bin_end": 1276400.8278166354,
            "count": 0
           },
           {
            "bin_start": 1276400.8278166354,
            "bin_end": 1417705.5667249428,
            "count": 1
           },
           {
            "bin_start": 1417705.5667249428,
            "bin_end": 1559010.3056332502,
            "count": 0
           },
           {
            "bin_start": 1559010.3056332502,
            "bin_end": 1700315.0445415576,
            "count": 0
           },
           {
            "bin_start": 1700315.0445415576,
            "bin_end": 1841619.783449865,
            "count": 2
           }
          ]
         }
        },
        {
         "name": "_deepnote_index_column",
         "dtype": "int64"
        }
       ],
       "rows": [
        {
         "bulan": "1",
         "total_nilai_penjualan": "897649.7956987398",
         "_deepnote_index_column": "0"
        },
        {
         "bulan": "2",
         "total_nilai_penjualan": "822623.882691211",
         "_deepnote_index_column": "1"
        },
        {
         "bulan": "3",
         "total_nilai_penjualan": "846632.3206312857",
         "_deepnote_index_column": "2"
        },
        {
         "bulan": "4",
         "total_nilai_penjualan": "713905.3381016657",
         "_deepnote_index_column": "3"
        },
        {
         "bulan": "5",
         "total_nilai_penjualan": "1080854.0966414826",
         "_deepnote_index_column": "4"
        },
        {
         "bulan": "6",
         "total_nilai_penjualan": "966148.57373689",
         "_deepnote_index_column": "5"
        },
        {
         "bulan": "7",
         "total_nilai_penjualan": "1071583.8649166187",
         "_deepnote_index_column": "6"
        },
        {
         "bulan": "8",
         "total_nilai_penjualan": "1121783.8918568576",
         "_deepnote_index_column": "7"
        },
        {
         "bulan": "9",
         "total_nilai_penjualan": "1352247.011522638",
         "_deepnote_index_column": "8"
        },
        {
         "bulan": "10",
         "total_nilai_penjualan": "1780802.3338466182",
         "_deepnote_index_column": "9"
        }
       ]
      },
      "text/plain": "    bulan  total_nilai_penjualan\n0       1           8.976498e+05\n1       2           8.226239e+05\n2       3           8.466323e+05\n3       4           7.139053e+05\n4       5           1.080854e+06\n5       6           9.661486e+05\n6       7           1.071584e+06\n7       8           1.121784e+06\n8       9           1.352247e+06\n9      10           1.780802e+06\n10     11           1.841620e+06\n11     12           4.285724e+05",
      "text/html": "<div>\n<style scoped>\n    .dataframe tbody tr th:only-of-type {\n        vertical-align: middle;\n    }\n\n    .dataframe tbody tr th {\n        vertical-align: top;\n    }\n\n    .dataframe thead th {\n        text-align: right;\n    }\n</style>\n<table border=\"1\" class=\"dataframe\">\n  <thead>\n    <tr style=\"text-align: right;\">\n      <th></th>\n      <th>bulan</th>\n      <th>total_nilai_penjualan</th>\n    </tr>\n  </thead>\n  <tbody>\n    <tr>\n      <th>0</th>\n      <td>1</td>\n      <td>8.976498e+05</td>\n    </tr>\n    <tr>\n      <th>1</th>\n      <td>2</td>\n      <td>8.226239e+05</td>\n    </tr>\n    <tr>\n      <th>2</th>\n      <td>3</td>\n      <td>8.466323e+05</td>\n    </tr>\n    <tr>\n      <th>3</th>\n      <td>4</td>\n      <td>7.139053e+05</td>\n    </tr>\n    <tr>\n      <th>4</th>\n      <td>5</td>\n      <td>1.080854e+06</td>\n    </tr>\n    <tr>\n      <th>5</th>\n      <td>6</td>\n      <td>9.661486e+05</td>\n    </tr>\n    <tr>\n      <th>6</th>\n      <td>7</td>\n      <td>1.071584e+06</td>\n    </tr>\n    <tr>\n      <th>7</th>\n      <td>8</td>\n      <td>1.121784e+06</td>\n    </tr>\n    <tr>\n      <th>8</th>\n      <td>9</td>\n      <td>1.352247e+06</td>\n    </tr>\n    <tr>\n      <th>9</th>\n      <td>10</td>\n      <td>1.780802e+06</td>\n    </tr>\n    <tr>\n      <th>10</th>\n      <td>11</td>\n      <td>1.841620e+06</td>\n    </tr>\n    <tr>\n      <th>11</th>\n      <td>12</td>\n      <td>4.285724e+05</td>\n    </tr>\n  </tbody>\n</table>\n</div>"
     },
     "metadata": {}
    }
   ]
  },
  {
   "cell_type": "code",
   "metadata": {
    "tags": [],
    "cell_id": "026105109278418296923834e6c14fc1",
    "source_hash": "e7946560",
    "execution_start": 1661913619997,
    "execution_millis": 1574,
    "sql_integration_id": "deepnote-dataframe-sql",
    "deepnote_table_state": {
     "sortBy": [],
     "filters": [],
     "pageSize": 10,
     "pageIndex": 0
    },
    "deepnote_table_loading": false,
    "deepnote_variable_name": "df_8",
    "deepnote_to_be_reexecuted": false,
    "deepnote_sql_source": "SELECT\n    invoice_date,\n    DATE_TRUNC('day', invoice_date) AS Day,\n    DATE_TRUNC('Week', invoice_date) AS Week,\n    DATE_TRUNC('month', invoice_date) AS Month\nFROM orders\nORDER BY invoice_date ASC;",
    "deepnote_cell_type": "sql",
    "deepnote_cell_height": 743.234375
   },
   "source": "\n\ndf_8 = _deepnote_execute_sql(\"\"\"SELECT\n    invoice_date,\n    DATE_TRUNC('day', invoice_date) AS Day,\n    DATE_TRUNC('Week', invoice_date) AS Week,\n    DATE_TRUNC('month', invoice_date) AS Month\nFROM orders\nORDER BY invoice_date ASC;\n\"\"\", 'SQL_DEEPNOTE_DATAFRAME_SQL')\ndf_8",
   "execution_count": 11,
   "outputs": [
    {
     "output_type": "execute_result",
     "execution_count": 11,
     "data": {
      "application/vnd.deepnote.dataframe.v3+json": {
       "column_count": 4,
       "row_count": 279949,
       "columns": [
        {
         "name": "invoice_date",
         "dtype": "datetime64[ns]"
        },
        {
         "name": "day",
         "dtype": "datetime64[ns]"
        },
        {
         "name": "Week",
         "dtype": "datetime64[ns]"
        },
        {
         "name": "month",
         "dtype": "datetime64[ns]"
        },
        {
         "name": "_deepnote_index_column",
         "dtype": "int64"
        }
       ],
       "rows": [
        {
         "invoice_date": "2021-01-01 10:00:00",
         "day": "2021-01-01 00:00:00",
         "Week": "2020-12-28 00:00:00",
         "month": "2021-01-01 00:00:00",
         "_deepnote_index_column": "0"
        },
        {
         "invoice_date": "2021-01-01 10:00:00",
         "day": "2021-01-01 00:00:00",
         "Week": "2020-12-28 00:00:00",
         "month": "2021-01-01 00:00:00",
         "_deepnote_index_column": "1"
        },
        {
         "invoice_date": "2021-01-01 10:00:00",
         "day": "2021-01-01 00:00:00",
         "Week": "2020-12-28 00:00:00",
         "month": "2021-01-01 00:00:00",
         "_deepnote_index_column": "2"
        },
        {
         "invoice_date": "2021-01-01 10:00:00",
         "day": "2021-01-01 00:00:00",
         "Week": "2020-12-28 00:00:00",
         "month": "2021-01-01 00:00:00",
         "_deepnote_index_column": "3"
        },
        {
         "invoice_date": "2021-01-01 10:00:00",
         "day": "2021-01-01 00:00:00",
         "Week": "2020-12-28 00:00:00",
         "month": "2021-01-01 00:00:00",
         "_deepnote_index_column": "4"
        },
        {
         "invoice_date": "2021-01-01 10:00:00",
         "day": "2021-01-01 00:00:00",
         "Week": "2020-12-28 00:00:00",
         "month": "2021-01-01 00:00:00",
         "_deepnote_index_column": "5"
        },
        {
         "invoice_date": "2021-01-01 10:00:00",
         "day": "2021-01-01 00:00:00",
         "Week": "2020-12-28 00:00:00",
         "month": "2021-01-01 00:00:00",
         "_deepnote_index_column": "6"
        },
        {
         "invoice_date": "2021-01-01 10:00:00",
         "day": "2021-01-01 00:00:00",
         "Week": "2020-12-28 00:00:00",
         "month": "2021-01-01 00:00:00",
         "_deepnote_index_column": "7"
        },
        {
         "invoice_date": "2021-01-01 10:00:00",
         "day": "2021-01-01 00:00:00",
         "Week": "2020-12-28 00:00:00",
         "month": "2021-01-01 00:00:00",
         "_deepnote_index_column": "8"
        },
        {
         "invoice_date": "2021-01-01 10:00:00",
         "day": "2021-01-01 00:00:00",
         "Week": "2020-12-28 00:00:00",
         "month": "2021-01-01 00:00:00",
         "_deepnote_index_column": "9"
        }
       ]
      },
      "text/plain": "              invoice_date        day       Week      month\n0      2021-01-01 10:00:00 2021-01-01 2020-12-28 2021-01-01\n1      2021-01-01 10:00:00 2021-01-01 2020-12-28 2021-01-01\n2      2021-01-01 10:00:00 2021-01-01 2020-12-28 2021-01-01\n3      2021-01-01 10:00:00 2021-01-01 2020-12-28 2021-01-01\n4      2021-01-01 10:00:00 2021-01-01 2020-12-28 2021-01-01\n...                    ...        ...        ...        ...\n279944 2021-12-06 12:50:00 2021-12-06 2021-12-06 2021-12-01\n279945 2021-12-06 12:50:00 2021-12-06 2021-12-06 2021-12-01\n279946 2021-12-06 12:50:00 2021-12-06 2021-12-06 2021-12-01\n279947 2021-12-06 12:50:00 2021-12-06 2021-12-06 2021-12-01\n279948 2021-12-06 12:50:00 2021-12-06 2021-12-06 2021-12-01\n\n[279949 rows x 4 columns]",
      "text/html": "<div>\n<style scoped>\n    .dataframe tbody tr th:only-of-type {\n        vertical-align: middle;\n    }\n\n    .dataframe tbody tr th {\n        vertical-align: top;\n    }\n\n    .dataframe thead th {\n        text-align: right;\n    }\n</style>\n<table border=\"1\" class=\"dataframe\">\n  <thead>\n    <tr style=\"text-align: right;\">\n      <th></th>\n      <th>invoice_date</th>\n      <th>day</th>\n      <th>Week</th>\n      <th>month</th>\n    </tr>\n  </thead>\n  <tbody>\n    <tr>\n      <th>0</th>\n      <td>2021-01-01 10:00:00</td>\n      <td>2021-01-01</td>\n      <td>2020-12-28</td>\n      <td>2021-01-01</td>\n    </tr>\n    <tr>\n      <th>1</th>\n      <td>2021-01-01 10:00:00</td>\n      <td>2021-01-01</td>\n      <td>2020-12-28</td>\n      <td>2021-01-01</td>\n    </tr>\n    <tr>\n      <th>2</th>\n      <td>2021-01-01 10:00:00</td>\n      <td>2021-01-01</td>\n      <td>2020-12-28</td>\n      <td>2021-01-01</td>\n    </tr>\n    <tr>\n      <th>3</th>\n      <td>2021-01-01 10:00:00</td>\n      <td>2021-01-01</td>\n      <td>2020-12-28</td>\n      <td>2021-01-01</td>\n    </tr>\n    <tr>\n      <th>4</th>\n      <td>2021-01-01 10:00:00</td>\n      <td>2021-01-01</td>\n      <td>2020-12-28</td>\n      <td>2021-01-01</td>\n    </tr>\n    <tr>\n      <th>...</th>\n      <td>...</td>\n      <td>...</td>\n      <td>...</td>\n      <td>...</td>\n    </tr>\n    <tr>\n      <th>279944</th>\n      <td>2021-12-06 12:50:00</td>\n      <td>2021-12-06</td>\n      <td>2021-12-06</td>\n      <td>2021-12-01</td>\n    </tr>\n    <tr>\n      <th>279945</th>\n      <td>2021-12-06 12:50:00</td>\n      <td>2021-12-06</td>\n      <td>2021-12-06</td>\n      <td>2021-12-01</td>\n    </tr>\n    <tr>\n      <th>279946</th>\n      <td>2021-12-06 12:50:00</td>\n      <td>2021-12-06</td>\n      <td>2021-12-06</td>\n      <td>2021-12-01</td>\n    </tr>\n    <tr>\n      <th>279947</th>\n      <td>2021-12-06 12:50:00</td>\n      <td>2021-12-06</td>\n      <td>2021-12-06</td>\n      <td>2021-12-01</td>\n    </tr>\n    <tr>\n      <th>279948</th>\n      <td>2021-12-06 12:50:00</td>\n      <td>2021-12-06</td>\n      <td>2021-12-06</td>\n      <td>2021-12-01</td>\n    </tr>\n  </tbody>\n</table>\n<p>279949 rows × 4 columns</p>\n</div>"
     },
     "metadata": {}
    }
   ]
  },
  {
   "cell_type": "code",
   "metadata": {
    "tags": [],
    "cell_id": "00956ee1cac344228d6e6bd4f6014ed3",
    "source_hash": "1caf0d6",
    "execution_start": 1661913621595,
    "execution_millis": 215,
    "sql_integration_id": "deepnote-dataframe-sql",
    "deepnote_variable_name": "df_7",
    "deepnote_to_be_reexecuted": false,
    "deepnote_sql_source": "SELECT \n    DATE_TRUNC('month', invoice_date) AS Bulan,\n    SUM(orders.quantity * products.price) AS Total_Nilai_Penjualan\nFROM orders\nJOIN products ON products.id = orders.product_id\nGROUP BY DATE_TRUNC('month', invoice_date);",
    "deepnote_cell_type": "sql",
    "deepnote_cell_height": 725.234375
   },
   "source": "\n\ndf_7 = _deepnote_execute_sql(\"\"\"SELECT \n    DATE_TRUNC('month', invoice_date) AS Bulan,\n    SUM(orders.quantity * products.price) AS Total_Nilai_Penjualan\nFROM orders\nJOIN products ON products.id = orders.product_id\nGROUP BY DATE_TRUNC('month', invoice_date);\n\"\"\", 'SQL_DEEPNOTE_DATAFRAME_SQL')\ndf_7",
   "execution_count": 12,
   "outputs": [
    {
     "output_type": "execute_result",
     "execution_count": 12,
     "data": {
      "application/vnd.deepnote.dataframe.v3+json": {
       "column_count": 2,
       "row_count": 12,
       "columns": [
        {
         "name": "Bulan",
         "dtype": "datetime64[ns]",
         "stats": {
          "unique_count": 12,
          "nan_count": 0,
          "min": "2021-01-01 00:00:00",
          "max": "2021-12-01 00:00:00",
          "histogram": [
           {
            "bin_start": 1609459200000000000,
            "bin_end": 1612344960000000000,
            "count": 2
           },
           {
            "bin_start": 1612344960000000000,
            "bin_end": 1615230720000000000,
            "count": 1
           },
           {
            "bin_start": 1615230720000000000,
            "bin_end": 1618116480000000000,
            "count": 1
           },
           {
            "bin_start": 1618116480000000000,
            "bin_end": 1621002240000000000,
            "count": 1
           },
           {
            "bin_start": 1621002240000000000,
            "bin_end": 1623888000000000000,
            "count": 1
           },
           {
            "bin_start": 1623888000000000000,
            "bin_end": 1626773760000000000,
            "count": 1
           },
           {
            "bin_start": 1626773760000000000,
            "bin_end": 1629659520000000000,
            "count": 1
           },
           {
            "bin_start": 1629659520000000000,
            "bin_end": 1632545280000000000,
            "count": 1
           },
           {
            "bin_start": 1632545280000000000,
            "bin_end": 1635431040000000000,
            "count": 1
           },
           {
            "bin_start": 1635431040000000000,
            "bin_end": 1638316800000000000,
            "count": 2
           }
          ]
         }
        },
        {
         "name": "Total_Nilai_Penjualan",
         "dtype": "float64",
         "stats": {
          "unique_count": 12,
          "nan_count": 0,
          "min": "428572.39436679083",
          "max": "1841619.7834498635",
          "histogram": [
           {
            "bin_start": 428572.39436679083,
            "bin_end": 569877.1332750982,
            "count": 1
           },
           {
            "bin_start": 569877.1332750982,
            "bin_end": 711181.8721834053,
            "count": 0
           },
           {
            "bin_start": 711181.8721834053,
            "bin_end": 852486.6110917127,
            "count": 3
           },
           {
            "bin_start": 852486.6110917127,
            "bin_end": 993791.3500000199,
            "count": 2
           },
           {
            "bin_start": 993791.3500000199,
            "bin_end": 1135096.0889083273,
            "count": 3
           },
           {
            "bin_start": 1135096.0889083273,
            "bin_end": 1276400.8278166344,
            "count": 0
           },
           {
            "bin_start": 1276400.8278166344,
            "bin_end": 1417705.5667249418,
            "count": 1
           },
           {
            "bin_start": 1417705.5667249418,
            "bin_end": 1559010.305633249,
            "count": 0
           },
           {
            "bin_start": 1559010.305633249,
            "bin_end": 1700315.0445415562,
            "count": 0
           },
           {
            "bin_start": 1700315.0445415562,
            "bin_end": 1841619.7834498635,
            "count": 2
           }
          ]
         }
        },
        {
         "name": "_deepnote_index_column",
         "dtype": "int64"
        }
       ],
       "rows": [
        {
         "Bulan": "2021-05-01 00:00:00",
         "Total_Nilai_Penjualan": "1080854.0966414835",
         "_deepnote_index_column": "0"
        },
        {
         "Bulan": "2021-04-01 00:00:00",
         "Total_Nilai_Penjualan": "713905.3381016657",
         "_deepnote_index_column": "1"
        },
        {
         "Bulan": "2021-11-01 00:00:00",
         "Total_Nilai_Penjualan": "1841619.7834498635",
         "_deepnote_index_column": "2"
        },
        {
         "Bulan": "2021-10-01 00:00:00",
         "Total_Nilai_Penjualan": "1780802.3338466203",
         "_deepnote_index_column": "3"
        },
        {
         "Bulan": "2021-07-01 00:00:00",
         "Total_Nilai_Penjualan": "1071583.8649166147",
         "_deepnote_index_column": "4"
        },
        {
         "Bulan": "2021-06-01 00:00:00",
         "Total_Nilai_Penjualan": "966148.57373689",
         "_deepnote_index_column": "5"
        },
        {
         "Bulan": "2021-08-01 00:00:00",
         "Total_Nilai_Penjualan": "1121783.8918568594",
         "_deepnote_index_column": "6"
        },
        {
         "Bulan": "2021-12-01 00:00:00",
         "Total_Nilai_Penjualan": "428572.39436679083",
         "_deepnote_index_column": "7"
        },
        {
         "Bulan": "2021-01-01 00:00:00",
         "Total_Nilai_Penjualan": "897649.7956987415",
         "_deepnote_index_column": "8"
        },
        {
         "Bulan": "2021-02-01 00:00:00",
         "Total_Nilai_Penjualan": "822623.8826912106",
         "_deepnote_index_column": "9"
        }
       ]
      },
      "text/plain": "        Bulan  Total_Nilai_Penjualan\n0  2021-05-01           1.080854e+06\n1  2021-04-01           7.139053e+05\n2  2021-11-01           1.841620e+06\n3  2021-10-01           1.780802e+06\n4  2021-07-01           1.071584e+06\n5  2021-06-01           9.661486e+05\n6  2021-08-01           1.121784e+06\n7  2021-12-01           4.285724e+05\n8  2021-01-01           8.976498e+05\n9  2021-02-01           8.226239e+05\n10 2021-03-01           8.466323e+05\n11 2021-09-01           1.352247e+06",
      "text/html": "<div>\n<style scoped>\n    .dataframe tbody tr th:only-of-type {\n        vertical-align: middle;\n    }\n\n    .dataframe tbody tr th {\n        vertical-align: top;\n    }\n\n    .dataframe thead th {\n        text-align: right;\n    }\n</style>\n<table border=\"1\" class=\"dataframe\">\n  <thead>\n    <tr style=\"text-align: right;\">\n      <th></th>\n      <th>Bulan</th>\n      <th>Total_Nilai_Penjualan</th>\n    </tr>\n  </thead>\n  <tbody>\n    <tr>\n      <th>0</th>\n      <td>2021-05-01</td>\n      <td>1.080854e+06</td>\n    </tr>\n    <tr>\n      <th>1</th>\n      <td>2021-04-01</td>\n      <td>7.139053e+05</td>\n    </tr>\n    <tr>\n      <th>2</th>\n      <td>2021-11-01</td>\n      <td>1.841620e+06</td>\n    </tr>\n    <tr>\n      <th>3</th>\n      <td>2021-10-01</td>\n      <td>1.780802e+06</td>\n    </tr>\n    <tr>\n      <th>4</th>\n      <td>2021-07-01</td>\n      <td>1.071584e+06</td>\n    </tr>\n    <tr>\n      <th>5</th>\n      <td>2021-06-01</td>\n      <td>9.661486e+05</td>\n    </tr>\n    <tr>\n      <th>6</th>\n      <td>2021-08-01</td>\n      <td>1.121784e+06</td>\n    </tr>\n    <tr>\n      <th>7</th>\n      <td>2021-12-01</td>\n      <td>4.285724e+05</td>\n    </tr>\n    <tr>\n      <th>8</th>\n      <td>2021-01-01</td>\n      <td>8.976498e+05</td>\n    </tr>\n    <tr>\n      <th>9</th>\n      <td>2021-02-01</td>\n      <td>8.226239e+05</td>\n    </tr>\n    <tr>\n      <th>10</th>\n      <td>2021-03-01</td>\n      <td>8.466323e+05</td>\n    </tr>\n    <tr>\n      <th>11</th>\n      <td>2021-09-01</td>\n      <td>1.352247e+06</td>\n    </tr>\n  </tbody>\n</table>\n</div>"
     },
     "metadata": {}
    }
   ]
  },
  {
   "cell_type": "markdown",
   "source": "### -- Berapa jumlah transaksi yang sudah terjadi?",
   "metadata": {
    "formattedRanges": [],
    "tags": [],
    "cell_id": "8c4320c701354838b16370f4d1448b7e",
    "is_collapsed": false,
    "deepnote_cell_type": "text-cell-h3"
   }
  },
  {
   "cell_type": "code",
   "source": "\n\ndf_12 = _deepnote_execute_sql(\"\"\"SELECT COUNT(*) AS Jumlah_Transaksi\nFROM orders;\n\"\"\", 'SQL_DEEPNOTE_DATAFRAME_SQL')\ndf_12",
   "metadata": {
    "tags": [],
    "cell_id": "62d62239ab26441a82f332f6da8f763e",
    "source_hash": "90d2c6e7",
    "execution_start": 1661914836470,
    "execution_millis": 135,
    "sql_integration_id": "deepnote-dataframe-sql",
    "deepnote_variable_name": "df_12",
    "deepnote_to_be_reexecuted": false,
    "deepnote_sql_source": "SELECT COUNT(*) AS Jumlah_Transaksi\nFROM orders;",
    "deepnote_cell_type": "sql",
    "deepnote_cell_height": 284.328125
   },
   "execution_count": 27,
   "outputs": [
    {
     "output_type": "execute_result",
     "execution_count": 27,
     "data": {
      "application/vnd.deepnote.dataframe.v3+json": {
       "column_count": 1,
       "row_count": 1,
       "columns": [
        {
         "name": "Jumlah_Transaksi",
         "dtype": "int64",
         "stats": {
          "unique_count": 1,
          "nan_count": 0,
          "min": "279949",
          "max": "279949",
          "histogram": [
           {
            "bin_start": 279948.5,
            "bin_end": 279948.6,
            "count": 0
           },
           {
            "bin_start": 279948.6,
            "bin_end": 279948.7,
            "count": 0
           },
           {
            "bin_start": 279948.7,
            "bin_end": 279948.8,
            "count": 0
           },
           {
            "bin_start": 279948.8,
            "bin_end": 279948.9,
            "count": 0
           },
           {
            "bin_start": 279948.9,
            "bin_end": 279949,
            "count": 0
           },
           {
            "bin_start": 279949,
            "bin_end": 279949.1,
            "count": 1
           },
           {
            "bin_start": 279949.1,
            "bin_end": 279949.2,
            "count": 0
           },
           {
            "bin_start": 279949.2,
            "bin_end": 279949.3,
            "count": 0
           },
           {
            "bin_start": 279949.3,
            "bin_end": 279949.4,
            "count": 0
           },
           {
            "bin_start": 279949.4,
            "bin_end": 279949.5,
            "count": 0
           }
          ]
         }
        },
        {
         "name": "_deepnote_index_column",
         "dtype": "int64"
        }
       ],
       "rows": [
        {
         "Jumlah_Transaksi": "279949",
         "_deepnote_index_column": "0"
        }
       ]
      },
      "text/plain": "   Jumlah_Transaksi\n0            279949",
      "text/html": "<div>\n<style scoped>\n    .dataframe tbody tr th:only-of-type {\n        vertical-align: middle;\n    }\n\n    .dataframe tbody tr th {\n        vertical-align: top;\n    }\n\n    .dataframe thead th {\n        text-align: right;\n    }\n</style>\n<table border=\"1\" class=\"dataframe\">\n  <thead>\n    <tr style=\"text-align: right;\">\n      <th></th>\n      <th>Jumlah_Transaksi</th>\n    </tr>\n  </thead>\n  <tbody>\n    <tr>\n      <th>0</th>\n      <td>279949</td>\n    </tr>\n  </tbody>\n</table>\n</div>"
     },
     "metadata": {}
    }
   ]
  },
  {
   "cell_type": "markdown",
   "source": "### -- Berapa jumlah transaksi dari bulan ke bulan?",
   "metadata": {
    "formattedRanges": [],
    "tags": [],
    "cell_id": "1d709012-009c-4270-bb6b-2863b5401683",
    "is_collapsed": false,
    "deepnote_cell_type": "text-cell-h3"
   }
  },
  {
   "cell_type": "code",
   "metadata": {
    "tags": [],
    "cell_id": "fc00d67dd1ed4e899cee6b54e9e60da3",
    "source_hash": "89ade207",
    "execution_start": 1661913621866,
    "execution_millis": 117,
    "sql_integration_id": "deepnote-dataframe-sql",
    "deepnote_variable_name": "df_13",
    "deepnote_to_be_reexecuted": false,
    "deepnote_sql_source": "SELECT \n    DATE_TRUNC('month', orders.invoice_date) AS Bulan,\n    COUNT(*) AS Jumlah_Transaksi\nFROM orders\nGROUP BY DATE_TRUNC('month', orders.invoice_date);",
    "deepnote_cell_type": "sql",
    "deepnote_cell_height": 707.25
   },
   "source": "\n\ndf_13 = _deepnote_execute_sql(\"\"\"SELECT \n    DATE_TRUNC('month', orders.invoice_date) AS Bulan,\n    COUNT(*) AS Jumlah_Transaksi\nFROM orders\nGROUP BY DATE_TRUNC('month', orders.invoice_date);\n\"\"\", 'SQL_DEEPNOTE_DATAFRAME_SQL')\ndf_13",
   "execution_count": 14,
   "outputs": [
    {
     "output_type": "execute_result",
     "execution_count": 14,
     "data": {
      "application/vnd.deepnote.dataframe.v3+json": {
       "column_count": 2,
       "row_count": 12,
       "columns": [
        {
         "name": "Bulan",
         "dtype": "datetime64[ns]",
         "stats": {
          "unique_count": 12,
          "nan_count": 0,
          "min": "2021-01-01 00:00:00",
          "max": "2021-12-01 00:00:00",
          "histogram": [
           {
            "bin_start": 1609459200000000000,
            "bin_end": 1612344960000000000,
            "count": 2
           },
           {
            "bin_start": 1612344960000000000,
            "bin_end": 1615230720000000000,
            "count": 1
           },
           {
            "bin_start": 1615230720000000000,
            "bin_end": 1618116480000000000,
            "count": 1
           },
           {
            "bin_start": 1618116480000000000,
            "bin_end": 1621002240000000000,
            "count": 1
           },
           {
            "bin_start": 1621002240000000000,
            "bin_end": 1623888000000000000,
            "count": 1
           },
           {
            "bin_start": 1623888000000000000,
            "bin_end": 1626773760000000000,
            "count": 1
           },
           {
            "bin_start": 1626773760000000000,
            "bin_end": 1629659520000000000,
            "count": 1
           },
           {
            "bin_start": 1629659520000000000,
            "bin_end": 1632545280000000000,
            "count": 1
           },
           {
            "bin_start": 1632545280000000000,
            "bin_end": 1635431040000000000,
            "count": 1
           },
           {
            "bin_start": 1635431040000000000,
            "bin_end": 1638316800000000000,
            "count": 2
           }
          ]
         }
        },
        {
         "name": "Jumlah_Transaksi",
         "dtype": "int64",
         "stats": {
          "unique_count": 12,
          "nan_count": 0,
          "min": "10175",
          "max": "48122",
          "histogram": [
           {
            "bin_start": 10175,
            "bin_end": 13969.7,
            "count": 1
           },
           {
            "bin_start": 13969.7,
            "bin_end": 17764.4,
            "count": 2
           },
           {
            "bin_start": 17764.4,
            "bin_end": 21559.1,
            "count": 5
           },
           {
            "bin_start": 21559.1,
            "bin_end": 25353.8,
            "count": 1
           },
           {
            "bin_start": 25353.8,
            "bin_end": 29148.5,
            "count": 0
           },
           {
            "bin_start": 29148.5,
            "bin_end": 32943.2,
            "count": 1
           },
           {
            "bin_start": 32943.2,
            "bin_end": 36737.899999999994,
            "count": 0
           },
           {
            "bin_start": 36737.899999999994,
            "bin_end": 40532.6,
            "count": 1
           },
           {
            "bin_start": 40532.6,
            "bin_end": 44327.299999999996,
            "count": 0
           },
           {
            "bin_start": 44327.299999999996,
            "bin_end": 48122,
            "count": 1
           }
          ]
         }
        },
        {
         "name": "_deepnote_index_column",
         "dtype": "int64"
        }
       ],
       "rows": [
        {
         "Bulan": "2021-11-01 00:00:00",
         "Jumlah_Transaksi": "48122",
         "_deepnote_index_column": "0"
        },
        {
         "Bulan": "2021-12-01 00:00:00",
         "Jumlah_Transaksi": "10175",
         "_deepnote_index_column": "1"
        },
        {
         "Bulan": "2021-07-01 00:00:00",
         "Jumlah_Transaksi": "20905",
         "_deepnote_index_column": "2"
        },
        {
         "Bulan": "2021-08-01 00:00:00",
         "Jumlah_Transaksi": "19447",
         "_deepnote_index_column": "3"
        },
        {
         "Bulan": "2021-09-01 00:00:00",
         "Jumlah_Transaksi": "30503",
         "_deepnote_index_column": "4"
        },
        {
         "Bulan": "2021-10-01 00:00:00",
         "Jumlah_Transaksi": "38967",
         "_deepnote_index_column": "5"
        },
        {
         "Bulan": "2021-06-01 00:00:00",
         "Jumlah_Transaksi": "19296",
         "_deepnote_index_column": "6"
        },
        {
         "Bulan": "2021-05-01 00:00:00",
         "Jumlah_Transaksi": "21665",
         "_deepnote_index_column": "7"
        },
        {
         "Bulan": "2021-03-01 00:00:00",
         "Jumlah_Transaksi": "20033",
         "_deepnote_index_column": "8"
        },
        {
         "Bulan": "2021-04-01 00:00:00",
         "Jumlah_Transaksi": "16862",
         "_deepnote_index_column": "9"
        }
       ]
      },
      "text/plain": "        Bulan  Jumlah_Transaksi\n0  2021-11-01             48122\n1  2021-12-01             10175\n2  2021-07-01             20905\n3  2021-08-01             19447\n4  2021-09-01             30503\n5  2021-10-01             38967\n6  2021-06-01             19296\n7  2021-05-01             21665\n8  2021-03-01             20033\n9  2021-04-01             16862\n10 2021-01-01             18777\n11 2021-02-01             15197",
      "text/html": "<div>\n<style scoped>\n    .dataframe tbody tr th:only-of-type {\n        vertical-align: middle;\n    }\n\n    .dataframe tbody tr th {\n        vertical-align: top;\n    }\n\n    .dataframe thead th {\n        text-align: right;\n    }\n</style>\n<table border=\"1\" class=\"dataframe\">\n  <thead>\n    <tr style=\"text-align: right;\">\n      <th></th>\n      <th>Bulan</th>\n      <th>Jumlah_Transaksi</th>\n    </tr>\n  </thead>\n  <tbody>\n    <tr>\n      <th>0</th>\n      <td>2021-11-01</td>\n      <td>48122</td>\n    </tr>\n    <tr>\n      <th>1</th>\n      <td>2021-12-01</td>\n      <td>10175</td>\n    </tr>\n    <tr>\n      <th>2</th>\n      <td>2021-07-01</td>\n      <td>20905</td>\n    </tr>\n    <tr>\n      <th>3</th>\n      <td>2021-08-01</td>\n      <td>19447</td>\n    </tr>\n    <tr>\n      <th>4</th>\n      <td>2021-09-01</td>\n      <td>30503</td>\n    </tr>\n    <tr>\n      <th>5</th>\n      <td>2021-10-01</td>\n      <td>38967</td>\n    </tr>\n    <tr>\n      <th>6</th>\n      <td>2021-06-01</td>\n      <td>19296</td>\n    </tr>\n    <tr>\n      <th>7</th>\n      <td>2021-05-01</td>\n      <td>21665</td>\n    </tr>\n    <tr>\n      <th>8</th>\n      <td>2021-03-01</td>\n      <td>20033</td>\n    </tr>\n    <tr>\n      <th>9</th>\n      <td>2021-04-01</td>\n      <td>16862</td>\n    </tr>\n    <tr>\n      <th>10</th>\n      <td>2021-01-01</td>\n      <td>18777</td>\n    </tr>\n    <tr>\n      <th>11</th>\n      <td>2021-02-01</td>\n      <td>15197</td>\n    </tr>\n  </tbody>\n</table>\n</div>"
     },
     "metadata": {}
    }
   ]
  },
  {
   "cell_type": "code",
   "source": "_deepnote_run_altair(df_13, \"\"\"{\"data\":{\"name\":\"placeholder\"},\"mark\":{\"type\":\"bar\",\"tooltip\":true},\"height\":220,\"$schema\":\"https://vega.github.io/schema/vega-lite/v4.json\",\"autosize\":{\"type\":\"fit\"},\"encoding\":{\"x\":{\"sort\":null,\"type\":\"temporal\",\"field\":\"Bulan\",\"scale\":{\"type\":\"linear\",\"zero\":false}},\"y\":{\"sort\":null,\"type\":\"quantitative\",\"field\":\"Jumlah_Transaksi\",\"scale\":{\"type\":\"linear\",\"zero\":true}},\"color\":{\"sort\":null,\"type\":\"nominal\",\"field\":\"\",\"scale\":{\"type\":\"linear\",\"zero\":false}}}}\"\"\")",
   "metadata": {
    "cell_id": "08fc388bce744bf29eb67044777c3753",
    "source_hash": "a1e56985",
    "execution_start": 1661913650630,
    "execution_millis": 411,
    "deepnote_variable_name": "df_13",
    "deepnote_to_be_reexecuted": false,
    "deepnote_visualization_spec": {
     "data": {
      "name": "placeholder"
     },
     "mark": {
      "type": "bar",
      "tooltip": true
     },
     "height": 220,
     "$schema": "https://vega.github.io/schema/vega-lite/v4.json",
     "autosize": {
      "type": "fit"
     },
     "encoding": {
      "x": {
       "sort": null,
       "type": "temporal",
       "field": "Bulan",
       "scale": {
        "type": "linear",
        "zero": false
       }
      },
      "y": {
       "sort": null,
       "type": "quantitative",
       "field": "Jumlah_Transaksi",
       "scale": {
        "type": "linear",
        "zero": true
       }
      },
      "color": {
       "sort": null,
       "type": "nominal",
       "field": "",
       "scale": {
        "type": "linear",
        "zero": false
       }
      }
     }
    },
    "deepnote_cell_type": "visualization"
   },
   "execution_count": 24,
   "outputs": [
    {
     "output_type": "execute_result",
     "execution_count": 24,
     "data": {
      "text/html": "\n<div id=\"altair-viz-c24b3552e738476b8b042cf5e2d7e6fe\"></div>\n<script type=\"text/javascript\">\n  (function(spec, embedOpt){\n    let outputDiv = document.currentScript.previousElementSibling;\n    if (outputDiv.id !== \"altair-viz-c24b3552e738476b8b042cf5e2d7e6fe\") {\n      outputDiv = document.getElementById(\"altair-viz-c24b3552e738476b8b042cf5e2d7e6fe\");\n    }\n    const paths = {\n      \"vega\": \"https://cdn.jsdelivr.net/npm//vega@5?noext\",\n      \"vega-lib\": \"https://cdn.jsdelivr.net/npm//vega-lib?noext\",\n      \"vega-lite\": \"https://cdn.jsdelivr.net/npm//vega-lite@4.8.1?noext\",\n      \"vega-embed\": \"https://cdn.jsdelivr.net/npm//vega-embed@6?noext\",\n    };\n\n    function loadScript(lib) {\n      return new Promise(function(resolve, reject) {\n        var s = document.createElement('script');\n        s.src = paths[lib];\n        s.async = true;\n        s.onload = () => resolve(paths[lib]);\n        s.onerror = () => reject(`Error loading script: ${paths[lib]}`);\n        document.getElementsByTagName(\"head\")[0].appendChild(s);\n      });\n    }\n\n    function showError(err) {\n      outputDiv.innerHTML = `<div class=\"error\" style=\"color:red;\">${err}</div>`;\n      throw err;\n    }\n\n    function displayChart(vegaEmbed) {\n      vegaEmbed(outputDiv, spec, embedOpt)\n        .catch(err => showError(`Javascript Error: ${err.message}<br>This usually means there's a typo in your chart specification. See the javascript console for the full traceback.`));\n    }\n\n    if(typeof define === \"function\" && define.amd) {\n      requirejs.config({paths});\n      require([\"vega-embed\"], displayChart, err => showError(`Error loading script: ${err.message}`));\n    } else if (typeof vegaEmbed === \"function\") {\n      displayChart(vegaEmbed);\n    } else {\n      loadScript(\"vega\")\n        .then(() => loadScript(\"vega-lite\"))\n        .then(() => loadScript(\"vega-embed\"))\n        .catch(showError)\n        .then(() => displayChart(vegaEmbed));\n    }\n  })({\"config\": {\"view\": {\"continuousWidth\": 400, \"continuousHeight\": 300}, \"area\": {\"fill\": \"#51C0E9\"}, \"axis\": {\"labelFont\": \"Inter, sans-serif\", \"labelFontSize\": 12, \"labelFontWeight\": \"normal\", \"labelLimit\": 60, \"labelOverlap\": \"greedy\", \"titleFont\": \"Inter, sans-serif\", \"titleFontSize\": 12, \"titleFontWeight\": \"bold\"}, \"background\": \"#ffffff\", \"legend\": {\"labelFont\": \"Inter, sans-serif\", \"labelFontSize\": 12, \"titleFont\": \"Inter, sans-serif\", \"titleFontSize\": 12, \"titleFontWeight\": \"bold\"}, \"line\": {\"stroke\": \"#51C0E9\", \"strokeWidth\": 2}, \"rect\": {\"fill\": \"#51C0E9\"}, \"title\": {\"anchor\": \"start\", \"color\": \"#000000\", \"font\": \"Inter, sans-serif\", \"fontSize\": 22, \"fontWeight\": \"normal\"}}, \"data\": {\"name\": \"data-4071035addfa9fb82f413986f9191a56\"}, \"mark\": {\"type\": \"bar\", \"tooltip\": true}, \"autosize\": {\"type\": \"fit\"}, \"encoding\": {\"color\": {\"type\": \"nominal\", \"field\": \"\", \"scale\": {\"type\": \"linear\", \"zero\": false}, \"sort\": null}, \"x\": {\"type\": \"temporal\", \"field\": \"Bulan\", \"scale\": {\"type\": \"linear\", \"zero\": false}, \"sort\": null}, \"y\": {\"type\": \"quantitative\", \"field\": \"Jumlah_Transaksi\", \"scale\": {\"type\": \"linear\", \"zero\": true}, \"sort\": null}}, \"height\": 300, \"width\": \"container\", \"$schema\": \"https://vega.github.io/schema/vega-lite/v4.json\", \"datasets\": {\"data-4071035addfa9fb82f413986f9191a56\": [{\"Bulan\": \"2021-11-01T00:00:00\", \"Jumlah_Transaksi\": 48122}, {\"Bulan\": \"2021-12-01T00:00:00\", \"Jumlah_Transaksi\": 10175}, {\"Bulan\": \"2021-07-01T00:00:00\", \"Jumlah_Transaksi\": 20905}, {\"Bulan\": \"2021-08-01T00:00:00\", \"Jumlah_Transaksi\": 19447}, {\"Bulan\": \"2021-09-01T00:00:00\", \"Jumlah_Transaksi\": 30503}, {\"Bulan\": \"2021-10-01T00:00:00\", \"Jumlah_Transaksi\": 38967}, {\"Bulan\": \"2021-06-01T00:00:00\", \"Jumlah_Transaksi\": 19296}, {\"Bulan\": \"2021-05-01T00:00:00\", \"Jumlah_Transaksi\": 21665}, {\"Bulan\": \"2021-03-01T00:00:00\", \"Jumlah_Transaksi\": 20033}, {\"Bulan\": \"2021-04-01T00:00:00\", \"Jumlah_Transaksi\": 16862}, {\"Bulan\": \"2021-01-01T00:00:00\", \"Jumlah_Transaksi\": 18777}, {\"Bulan\": \"2021-02-01T00:00:00\", \"Jumlah_Transaksi\": 15197}]}}, {\"actions\": false, \"mode\": \"vega-lite\"});\n</script>",
      "text/plain": "alt.Chart(...)"
     },
     "metadata": {}
    }
   ]
  },
  {
   "cell_type": "markdown",
   "source": "### -- Berapa jumlah total nilai per transaksi sepanjang waktu?",
   "metadata": {
    "formattedRanges": [],
    "tags": [],
    "cell_id": "96274f1cf5d74367a950f980401e1ea0",
    "is_collapsed": false,
    "deepnote_cell_type": "text-cell-h3"
   }
  },
  {
   "cell_type": "code",
   "metadata": {
    "tags": [],
    "cell_id": "d1c14f743a644cbcbe14c3e9d8e2b9b4",
    "source_hash": "e72e5ddb",
    "execution_start": 1661913622474,
    "execution_millis": 231,
    "sql_integration_id": "deepnote-dataframe-sql",
    "deepnote_variable_name": "df_14",
    "deepnote_to_be_reexecuted": false,
    "deepnote_sql_source": "SELECT \n    DATE_TRUNC('month' ,invoice_date) AS Bulan,\n    SUM(orders.quantity * products.price)/COUNT(DISTINCT invoice_id) AS Total_Nilai_Penjualan\nFROM orders\nJOIN products ON orders.product_id = products.id\nGROUP BY DATE_TRUNC('month' ,invoice_date);",
    "deepnote_cell_type": "sql",
    "deepnote_cell_height": 725.234375
   },
   "source": "\n\ndf_14 = _deepnote_execute_sql(\"\"\"SELECT \n    DATE_TRUNC('month' ,invoice_date) AS Bulan,\n    SUM(orders.quantity * products.price)/COUNT(DISTINCT invoice_id) AS Total_Nilai_Penjualan\nFROM orders\nJOIN products ON orders.product_id = products.id\nGROUP BY DATE_TRUNC('month' ,invoice_date);\n\"\"\", 'SQL_DEEPNOTE_DATAFRAME_SQL')\ndf_14",
   "execution_count": 16,
   "outputs": [
    {
     "output_type": "execute_result",
     "execution_count": 16,
     "data": {
      "application/vnd.deepnote.dataframe.v3+json": {
       "column_count": 2,
       "row_count": 12,
       "columns": [
        {
         "name": "Bulan",
         "dtype": "datetime64[ns]",
         "stats": {
          "unique_count": 12,
          "nan_count": 0,
          "min": "2021-01-01 00:00:00",
          "max": "2021-12-01 00:00:00",
          "histogram": [
           {
            "bin_start": 1609459200000000000,
            "bin_end": 1612344960000000000,
            "count": 2
           },
           {
            "bin_start": 1612344960000000000,
            "bin_end": 1615230720000000000,
            "count": 1
           },
           {
            "bin_start": 1615230720000000000,
            "bin_end": 1618116480000000000,
            "count": 1
           },
           {
            "bin_start": 1618116480000000000,
            "bin_end": 1621002240000000000,
            "count": 1
           },
           {
            "bin_start": 1621002240000000000,
            "bin_end": 1623888000000000000,
            "count": 1
           },
           {
            "bin_start": 1623888000000000000,
            "bin_end": 1626773760000000000,
            "count": 1
           },
           {
            "bin_start": 1626773760000000000,
            "bin_end": 1629659520000000000,
            "count": 1
           },
           {
            "bin_start": 1629659520000000000,
            "bin_end": 1632545280000000000,
            "count": 1
           },
           {
            "bin_start": 1632545280000000000,
            "bin_end": 1635431040000000000,
            "count": 1
           },
           {
            "bin_start": 1635431040000000000,
            "bin_end": 1638316800000000000,
            "count": 2
           }
          ]
         }
        },
        {
         "name": "Total_Nilai_Penjualan",
         "dtype": "float64",
         "stats": {
          "unique_count": 12,
          "nan_count": 0,
          "min": "216.99868069204692",
          "max": "471.6107875653105",
          "histogram": [
           {
            "bin_start": 216.99868069204692,
            "bin_end": 242.4598913793733,
            "count": 1
           },
           {
            "bin_start": 242.4598913793733,
            "bin_end": 267.92110206669963,
            "count": 0
           },
           {
            "bin_start": 267.92110206669963,
            "bin_end": 293.382312754026,
            "count": 0
           },
           {
            "bin_start": 293.382312754026,
            "bin_end": 318.8435234413523,
            "count": 1
           },
           {
            "bin_start": 318.8435234413523,
            "bin_end": 344.3047341286787,
            "count": 0
           },
           {
            "bin_start": 344.3047341286787,
            "bin_end": 369.76594481600506,
            "count": 1
           },
           {
            "bin_start": 369.76594481600506,
            "bin_end": 395.22715550333146,
            "count": 3
           },
           {
            "bin_start": 395.22715550333146,
            "bin_end": 420.6883661906578,
            "count": 3
           },
           {
            "bin_start": 420.6883661906578,
            "bin_end": 446.14957687798415,
            "count": 2
           },
           {
            "bin_start": 446.14957687798415,
            "bin_end": 471.6107875653105,
            "count": 1
           }
          ]
         }
        },
        {
         "name": "_deepnote_index_column",
         "dtype": "int64"
        }
       ],
       "rows": [
        {
         "Bulan": "2021-05-01 00:00:00",
         "Total_Nilai_Penjualan": "419.26070467086186",
         "_deepnote_index_column": "0"
        },
        {
         "Bulan": "2021-04-01 00:00:00",
         "Total_Nilai_Penjualan": "303.53118116567475",
         "_deepnote_index_column": "1"
        },
        {
         "Bulan": "2021-11-01 00:00:00",
         "Total_Nilai_Penjualan": "434.95979769716774",
         "_deepnote_index_column": "2"
        },
        {
         "Bulan": "2021-10-01 00:00:00",
         "Total_Nilai_Penjualan": "471.6107875653105",
         "_deepnote_index_column": "3"
        },
        {
         "Bulan": "2021-07-01 00:00:00",
         "Total_Nilai_Penjualan": "400.74190909372237",
         "_deepnote_index_column": "4"
        },
        {
         "Bulan": "2021-06-01 00:00:00",
         "Total_Nilai_Penjualan": "379.92472423786455",
         "_deepnote_index_column": "5"
        },
        {
         "Bulan": "2021-08-01 00:00:00",
         "Total_Nilai_Penjualan": "443.9192290687993",
         "_deepnote_index_column": "6"
        },
        {
         "Bulan": "2021-12-01 00:00:00",
         "Total_Nilai_Penjualan": "216.99868069204692",
         "_deepnote_index_column": "7"
        },
        {
         "Bulan": "2021-01-01 00:00:00",
         "Total_Nilai_Penjualan": "392.329456162038",
         "_deepnote_index_column": "8"
        },
        {
         "Bulan": "2021-02-01 00:00:00",
         "Total_Nilai_Penjualan": "370.55129850955706",
         "_deepnote_index_column": "9"
        }
       ]
      },
      "text/plain": "        Bulan  Total_Nilai_Penjualan\n0  2021-05-01             419.260705\n1  2021-04-01             303.531181\n2  2021-11-01             434.959798\n3  2021-10-01             471.610788\n4  2021-07-01             400.741909\n5  2021-06-01             379.924724\n6  2021-08-01             443.919229\n7  2021-12-01             216.998681\n8  2021-01-01             392.329456\n9  2021-02-01             370.551299\n10 2021-03-01             345.564213\n11 2021-09-01             406.446352",
      "text/html": "<div>\n<style scoped>\n    .dataframe tbody tr th:only-of-type {\n        vertical-align: middle;\n    }\n\n    .dataframe tbody tr th {\n        vertical-align: top;\n    }\n\n    .dataframe thead th {\n        text-align: right;\n    }\n</style>\n<table border=\"1\" class=\"dataframe\">\n  <thead>\n    <tr style=\"text-align: right;\">\n      <th></th>\n      <th>Bulan</th>\n      <th>Total_Nilai_Penjualan</th>\n    </tr>\n  </thead>\n  <tbody>\n    <tr>\n      <th>0</th>\n      <td>2021-05-01</td>\n      <td>419.260705</td>\n    </tr>\n    <tr>\n      <th>1</th>\n      <td>2021-04-01</td>\n      <td>303.531181</td>\n    </tr>\n    <tr>\n      <th>2</th>\n      <td>2021-11-01</td>\n      <td>434.959798</td>\n    </tr>\n    <tr>\n      <th>3</th>\n      <td>2021-10-01</td>\n      <td>471.610788</td>\n    </tr>\n    <tr>\n      <th>4</th>\n      <td>2021-07-01</td>\n      <td>400.741909</td>\n    </tr>\n    <tr>\n      <th>5</th>\n      <td>2021-06-01</td>\n      <td>379.924724</td>\n    </tr>\n    <tr>\n      <th>6</th>\n      <td>2021-08-01</td>\n      <td>443.919229</td>\n    </tr>\n    <tr>\n      <th>7</th>\n      <td>2021-12-01</td>\n      <td>216.998681</td>\n    </tr>\n    <tr>\n      <th>8</th>\n      <td>2021-01-01</td>\n      <td>392.329456</td>\n    </tr>\n    <tr>\n      <th>9</th>\n      <td>2021-02-01</td>\n      <td>370.551299</td>\n    </tr>\n    <tr>\n      <th>10</th>\n      <td>2021-03-01</td>\n      <td>345.564213</td>\n    </tr>\n    <tr>\n      <th>11</th>\n      <td>2021-09-01</td>\n      <td>406.446352</td>\n    </tr>\n  </tbody>\n</table>\n</div>"
     },
     "metadata": {}
    }
   ]
  },
  {
   "cell_type": "code",
   "source": "_deepnote_run_altair(df_14, \"\"\"{\"data\":{\"name\":\"placeholder\"},\"mark\":{\"type\":\"bar\",\"tooltip\":true},\"height\":220,\"$schema\":\"https://vega.github.io/schema/vega-lite/v4.json\",\"autosize\":{\"type\":\"fit\"},\"encoding\":{\"x\":{\"sort\":null,\"type\":\"temporal\",\"field\":\"Bulan\",\"scale\":{\"type\":\"linear\",\"zero\":false}},\"y\":{\"sort\":null,\"type\":\"quantitative\",\"field\":\"Total_Nilai_Penjualan\",\"scale\":{\"type\":\"linear\",\"zero\":true}},\"color\":{\"sort\":null,\"type\":\"nominal\",\"field\":\"\",\"scale\":{\"type\":\"linear\",\"zero\":false}}}}\"\"\")",
   "metadata": {
    "cell_id": "2f06133a876a447b861142108fd23c51",
    "source_hash": "5f9631d1",
    "execution_start": 1661913654322,
    "execution_millis": 79,
    "deepnote_variable_name": "df_14",
    "deepnote_to_be_reexecuted": false,
    "deepnote_visualization_spec": {
     "data": {
      "name": "placeholder"
     },
     "mark": {
      "type": "bar",
      "tooltip": true
     },
     "height": 220,
     "$schema": "https://vega.github.io/schema/vega-lite/v4.json",
     "autosize": {
      "type": "fit"
     },
     "encoding": {
      "x": {
       "sort": null,
       "type": "temporal",
       "field": "Bulan",
       "scale": {
        "type": "linear",
        "zero": false
       }
      },
      "y": {
       "sort": null,
       "type": "quantitative",
       "field": "Total_Nilai_Penjualan",
       "scale": {
        "type": "linear",
        "zero": true
       }
      },
      "color": {
       "sort": null,
       "type": "nominal",
       "field": "",
       "scale": {
        "type": "linear",
        "zero": false
       }
      }
     }
    },
    "deepnote_cell_type": "visualization"
   },
   "execution_count": 25,
   "outputs": [
    {
     "output_type": "execute_result",
     "execution_count": 25,
     "data": {
      "text/html": "\n<div id=\"altair-viz-bcd74b16d3d24eb0b5ad1145ea2b9a72\"></div>\n<script type=\"text/javascript\">\n  (function(spec, embedOpt){\n    let outputDiv = document.currentScript.previousElementSibling;\n    if (outputDiv.id !== \"altair-viz-bcd74b16d3d24eb0b5ad1145ea2b9a72\") {\n      outputDiv = document.getElementById(\"altair-viz-bcd74b16d3d24eb0b5ad1145ea2b9a72\");\n    }\n    const paths = {\n      \"vega\": \"https://cdn.jsdelivr.net/npm//vega@5?noext\",\n      \"vega-lib\": \"https://cdn.jsdelivr.net/npm//vega-lib?noext\",\n      \"vega-lite\": \"https://cdn.jsdelivr.net/npm//vega-lite@4.8.1?noext\",\n      \"vega-embed\": \"https://cdn.jsdelivr.net/npm//vega-embed@6?noext\",\n    };\n\n    function loadScript(lib) {\n      return new Promise(function(resolve, reject) {\n        var s = document.createElement('script');\n        s.src = paths[lib];\n        s.async = true;\n        s.onload = () => resolve(paths[lib]);\n        s.onerror = () => reject(`Error loading script: ${paths[lib]}`);\n        document.getElementsByTagName(\"head\")[0].appendChild(s);\n      });\n    }\n\n    function showError(err) {\n      outputDiv.innerHTML = `<div class=\"error\" style=\"color:red;\">${err}</div>`;\n      throw err;\n    }\n\n    function displayChart(vegaEmbed) {\n      vegaEmbed(outputDiv, spec, embedOpt)\n        .catch(err => showError(`Javascript Error: ${err.message}<br>This usually means there's a typo in your chart specification. See the javascript console for the full traceback.`));\n    }\n\n    if(typeof define === \"function\" && define.amd) {\n      requirejs.config({paths});\n      require([\"vega-embed\"], displayChart, err => showError(`Error loading script: ${err.message}`));\n    } else if (typeof vegaEmbed === \"function\") {\n      displayChart(vegaEmbed);\n    } else {\n      loadScript(\"vega\")\n        .then(() => loadScript(\"vega-lite\"))\n        .then(() => loadScript(\"vega-embed\"))\n        .catch(showError)\n        .then(() => displayChart(vegaEmbed));\n    }\n  })({\"config\": {\"view\": {\"continuousWidth\": 400, \"continuousHeight\": 300}, \"area\": {\"fill\": \"#51C0E9\"}, \"axis\": {\"labelFont\": \"Inter, sans-serif\", \"labelFontSize\": 12, \"labelFontWeight\": \"normal\", \"labelLimit\": 60, \"labelOverlap\": \"greedy\", \"titleFont\": \"Inter, sans-serif\", \"titleFontSize\": 12, \"titleFontWeight\": \"bold\"}, \"background\": \"#ffffff\", \"legend\": {\"labelFont\": \"Inter, sans-serif\", \"labelFontSize\": 12, \"titleFont\": \"Inter, sans-serif\", \"titleFontSize\": 12, \"titleFontWeight\": \"bold\"}, \"line\": {\"stroke\": \"#51C0E9\", \"strokeWidth\": 2}, \"rect\": {\"fill\": \"#51C0E9\"}, \"title\": {\"anchor\": \"start\", \"color\": \"#000000\", \"font\": \"Inter, sans-serif\", \"fontSize\": 22, \"fontWeight\": \"normal\"}}, \"data\": {\"name\": \"data-080a489107871550bd1d56832aca31a6\"}, \"mark\": {\"type\": \"bar\", \"tooltip\": true}, \"autosize\": {\"type\": \"fit\"}, \"encoding\": {\"color\": {\"type\": \"nominal\", \"field\": \"\", \"scale\": {\"type\": \"linear\", \"zero\": false}, \"sort\": null}, \"x\": {\"type\": \"temporal\", \"field\": \"Bulan\", \"scale\": {\"type\": \"linear\", \"zero\": false}, \"sort\": null}, \"y\": {\"type\": \"quantitative\", \"field\": \"Total_Nilai_Penjualan\", \"scale\": {\"type\": \"linear\", \"zero\": true}, \"sort\": null}}, \"height\": 300, \"width\": \"container\", \"$schema\": \"https://vega.github.io/schema/vega-lite/v4.json\", \"datasets\": {\"data-080a489107871550bd1d56832aca31a6\": [{\"Bulan\": \"2021-05-01T00:00:00\", \"Total_Nilai_Penjualan\": 419.26070467086186}, {\"Bulan\": \"2021-04-01T00:00:00\", \"Total_Nilai_Penjualan\": 303.53118116567475}, {\"Bulan\": \"2021-11-01T00:00:00\", \"Total_Nilai_Penjualan\": 434.95979769716774}, {\"Bulan\": \"2021-10-01T00:00:00\", \"Total_Nilai_Penjualan\": 471.6107875653105}, {\"Bulan\": \"2021-07-01T00:00:00\", \"Total_Nilai_Penjualan\": 400.74190909372237}, {\"Bulan\": \"2021-06-01T00:00:00\", \"Total_Nilai_Penjualan\": 379.92472423786455}, {\"Bulan\": \"2021-08-01T00:00:00\", \"Total_Nilai_Penjualan\": 443.9192290687993}, {\"Bulan\": \"2021-12-01T00:00:00\", \"Total_Nilai_Penjualan\": 216.99868069204692}, {\"Bulan\": \"2021-01-01T00:00:00\", \"Total_Nilai_Penjualan\": 392.329456162038}, {\"Bulan\": \"2021-02-01T00:00:00\", \"Total_Nilai_Penjualan\": 370.55129850955706}, {\"Bulan\": \"2021-03-01T00:00:00\", \"Total_Nilai_Penjualan\": 345.5642125025668}, {\"Bulan\": \"2021-09-01T00:00:00\", \"Total_Nilai_Penjualan\": 406.4463515246847}]}}, {\"actions\": false, \"mode\": \"vega-lite\"});\n</script>",
      "text/plain": "alt.Chart(...)"
     },
     "metadata": {}
    }
   ]
  },
  {
   "cell_type": "markdown",
   "source": "### -- Tampilkan tiga negara teratas yang memiliki nilai transaksi terbanyak?",
   "metadata": {
    "formattedRanges": [],
    "tags": [],
    "cell_id": "8652fb6f48ea41a98c349cea92f7c723",
    "is_collapsed": false,
    "deepnote_cell_type": "text-cell-h3"
   }
  },
  {
   "cell_type": "code",
   "metadata": {
    "tags": [],
    "cell_id": "8b0a417e5055441798e963603331a93b",
    "source_hash": "58442283",
    "execution_start": 1661913622781,
    "execution_millis": 108,
    "sql_integration_id": "deepnote-dataframe-sql",
    "deepnote_variable_name": "df_16",
    "deepnote_to_be_reexecuted": false,
    "deepnote_sql_source": "WITH Penjualan_Negara AS (\nSELECT \n    c.name AS Nama_Negara,\n    SUM(o.quantity * p.price) AS Penjualan\nFROM orders AS o\nINNER JOIN products AS p ON o.product_id = p.id\nINNER JOIN countries AS c ON o.country_id = c.id\nGROUP BY c.name\n)\n\nSELECT \n    Nama_Negara\nFROM Penjualan_Negara\nORDER BY Penjualan DESC\nLIMIT 3;",
    "deepnote_cell_type": "sql",
    "deepnote_cell_height": 600.328125
   },
   "source": "\n\ndf_16 = _deepnote_execute_sql(\"\"\"WITH Penjualan_Negara AS (\nSELECT \n    c.name AS Nama_Negara,\n    SUM(o.quantity * p.price) AS Penjualan\nFROM orders AS o\nINNER JOIN products AS p ON o.product_id = p.id\nINNER JOIN countries AS c ON o.country_id = c.id\nGROUP BY c.name\n)\n\nSELECT \n    Nama_Negara\nFROM Penjualan_Negara\nORDER BY Penjualan DESC\nLIMIT 3;\n\"\"\", 'SQL_DEEPNOTE_DATAFRAME_SQL')\ndf_16",
   "execution_count": 18,
   "outputs": [
    {
     "output_type": "execute_result",
     "execution_count": 18,
     "data": {
      "application/vnd.deepnote.dataframe.v3+json": {
       "column_count": 1,
       "row_count": 3,
       "columns": [
        {
         "name": "Nama_Negara",
         "dtype": "object",
         "stats": {
          "unique_count": 3,
          "nan_count": 0,
          "categories": [
           {
            "name": "United Kingdom",
            "count": 1
           },
           {
            "name": "Netherlands",
            "count": 1
           },
           {
            "name": "EIRE",
            "count": 1
           }
          ]
         }
        },
        {
         "name": "_deepnote_index_column",
         "dtype": "int64"
        }
       ],
       "rows": [
        {
         "Nama_Negara": "United Kingdom",
         "_deepnote_index_column": "0"
        },
        {
         "Nama_Negara": "Netherlands",
         "_deepnote_index_column": "1"
        },
        {
         "Nama_Negara": "EIRE",
         "_deepnote_index_column": "2"
        }
       ]
      },
      "text/plain": "      Nama_Negara\n0  United Kingdom\n1     Netherlands\n2            EIRE",
      "text/html": "<div>\n<style scoped>\n    .dataframe tbody tr th:only-of-type {\n        vertical-align: middle;\n    }\n\n    .dataframe tbody tr th {\n        vertical-align: top;\n    }\n\n    .dataframe thead th {\n        text-align: right;\n    }\n</style>\n<table border=\"1\" class=\"dataframe\">\n  <thead>\n    <tr style=\"text-align: right;\">\n      <th></th>\n      <th>Nama_Negara</th>\n    </tr>\n  </thead>\n  <tbody>\n    <tr>\n      <th>0</th>\n      <td>United Kingdom</td>\n    </tr>\n    <tr>\n      <th>1</th>\n      <td>Netherlands</td>\n    </tr>\n    <tr>\n      <th>2</th>\n      <td>EIRE</td>\n    </tr>\n  </tbody>\n</table>\n</div>"
     },
     "metadata": {}
    }
   ]
  },
  {
   "cell_type": "markdown",
   "source": "### -- Tampilkan lima buah produk yang paling banyak terjual?",
   "metadata": {
    "formattedRanges": [],
    "tags": [],
    "cell_id": "0c74e5c4221b4d2681c180e2aa729229",
    "is_collapsed": false,
    "deepnote_cell_type": "text-cell-h3"
   }
  },
  {
   "cell_type": "code",
   "metadata": {
    "tags": [],
    "cell_id": "7e58388765b84d28994606dfa834358f",
    "source_hash": "a0e54c25",
    "execution_start": 1661913622915,
    "execution_millis": 112,
    "sql_integration_id": "deepnote-dataframe-sql",
    "deepnote_table_state": {
     "sortBy": [],
     "filters": [],
     "pageSize": 10,
     "pageIndex": 0
    },
    "deepnote_table_loading": false,
    "deepnote_variable_name": "df_16",
    "deepnote_to_be_reexecuted": false,
    "deepnote_sql_source": "SELECT \n    p.name AS Produk,\n    SUM(o.quantity) AS Total\nFROM orders AS o\nJOIN products AS p ON o.product_id = p.id\nGROUP BY p.name\nORDER BY Total DESC\nLIMIT 5;",
    "deepnote_cell_type": "sql",
    "deepnote_cell_height": 556.296875
   },
   "source": "\n\ndf_16 = _deepnote_execute_sql(\"\"\"SELECT \n    p.name AS Produk,\n    SUM(o.quantity) AS Total\nFROM orders AS o\nJOIN products AS p ON o.product_id = p.id\nGROUP BY p.name\nORDER BY Total DESC\nLIMIT 5;\n\"\"\", 'SQL_DEEPNOTE_DATAFRAME_SQL')\ndf_16",
   "execution_count": 19,
   "outputs": [
    {
     "output_type": "execute_result",
     "execution_count": 19,
     "data": {
      "application/vnd.deepnote.dataframe.v3+json": {
       "column_count": 2,
       "row_count": 5,
       "columns": [
        {
         "name": "Produk",
         "dtype": "object",
         "stats": {
          "unique_count": 5,
          "nan_count": 0,
          "categories": [
           {
            "name": "RED RETROSPOT SHOPPER BAG",
            "count": 1
           },
           {
            "name": "SET OF 3 CAKE TINS PANTRY DESIGN",
            "count": 1
           },
           {
            "name": "3 others",
            "count": 3
           }
          ]
         }
        },
        {
         "name": "Total",
         "dtype": "int64",
         "stats": {
          "unique_count": 5,
          "nan_count": 0,
          "min": "14052",
          "max": "78550",
          "histogram": [
           {
            "bin_start": 14052,
            "bin_end": 20501.8,
            "count": 4
           },
           {
            "bin_start": 20501.8,
            "bin_end": 26951.6,
            "count": 0
           },
           {
            "bin_start": 26951.6,
            "bin_end": 33401.4,
            "count": 0
           },
           {
            "bin_start": 33401.4,
            "bin_end": 39851.2,
            "count": 0
           },
           {
            "bin_start": 39851.2,
            "bin_end": 46301,
            "count": 0
           },
           {
            "bin_start": 46301,
            "bin_end": 52750.8,
            "count": 0
           },
           {
            "bin_start": 52750.8,
            "bin_end": 59200.6,
            "count": 0
           },
           {
            "bin_start": 59200.6,
            "bin_end": 65650.4,
            "count": 0
           },
           {
            "bin_start": 65650.4,
            "bin_end": 72100.20000000001,
            "count": 0
           },
           {
            "bin_start": 72100.20000000001,
            "bin_end": 78550,
            "count": 1
           }
          ]
         }
        },
        {
         "name": "_deepnote_index_column",
         "dtype": "int64"
        }
       ],
       "rows": [
        {
         "Produk": "RED RETROSPOT SHOPPER BAG",
         "Total": "78550",
         "_deepnote_index_column": "0"
        },
        {
         "Produk": "SET OF 3 CAKE TINS PANTRY DESIGN",
         "Total": "17917",
         "_deepnote_index_column": "1"
        },
        {
         "Produk": "RECYCLING BAG RETROSPOT ",
         "Total": "16265",
         "_deepnote_index_column": "2"
        },
        {
         "Produk": "PARTY BUNTING",
         "Total": "14157",
         "_deepnote_index_column": "3"
        },
        {
         "Produk": "NATURAL SLATE HEART CHALKBOARD ",
         "Total": "14052",
         "_deepnote_index_column": "4"
        }
       ]
      },
      "text/plain": "                             Produk  Total\n0         RED RETROSPOT SHOPPER BAG  78550\n1  SET OF 3 CAKE TINS PANTRY DESIGN  17917\n2          RECYCLING BAG RETROSPOT   16265\n3                     PARTY BUNTING  14157\n4   NATURAL SLATE HEART CHALKBOARD   14052",
      "text/html": "<div>\n<style scoped>\n    .dataframe tbody tr th:only-of-type {\n        vertical-align: middle;\n    }\n\n    .dataframe tbody tr th {\n        vertical-align: top;\n    }\n\n    .dataframe thead th {\n        text-align: right;\n    }\n</style>\n<table border=\"1\" class=\"dataframe\">\n  <thead>\n    <tr style=\"text-align: right;\">\n      <th></th>\n      <th>Produk</th>\n      <th>Total</th>\n    </tr>\n  </thead>\n  <tbody>\n    <tr>\n      <th>0</th>\n      <td>RED RETROSPOT SHOPPER BAG</td>\n      <td>78550</td>\n    </tr>\n    <tr>\n      <th>1</th>\n      <td>SET OF 3 CAKE TINS PANTRY DESIGN</td>\n      <td>17917</td>\n    </tr>\n    <tr>\n      <th>2</th>\n      <td>RECYCLING BAG RETROSPOT</td>\n      <td>16265</td>\n    </tr>\n    <tr>\n      <th>3</th>\n      <td>PARTY BUNTING</td>\n      <td>14157</td>\n    </tr>\n    <tr>\n      <th>4</th>\n      <td>NATURAL SLATE HEART CHALKBOARD</td>\n      <td>14052</td>\n    </tr>\n  </tbody>\n</table>\n</div>"
     },
     "metadata": {}
    }
   ]
  },
  {
   "cell_type": "markdown",
   "source": "### -- Negara mana yang memiliki penjualan paling sedikit?",
   "metadata": {
    "formattedRanges": [],
    "tags": [],
    "cell_id": "514bfbe007f9417cb5992ce361a7301e",
    "is_collapsed": false,
    "deepnote_cell_type": "text-cell-h3"
   }
  },
  {
   "cell_type": "code",
   "metadata": {
    "tags": [],
    "cell_id": "02a6dab85acc443c97a0af14ced2fbea",
    "source_hash": "1ff93b0b",
    "execution_start": 1661913623035,
    "execution_millis": 913,
    "sql_integration_id": "deepnote-dataframe-sql",
    "deepnote_variable_name": "df_19",
    "deepnote_to_be_reexecuted": false,
    "deepnote_sql_source": "WITH Penjualan_Negara AS (\nSELECT \n    c.name AS Nama_Negara,\n    SUM(o.quantity * p.price) AS Penjualan\nFROM orders AS o\nINNER JOIN products AS p ON o.product_id = p.id\nINNER JOIN countries AS c ON o.country_id = c.id\nGROUP BY c.name\n)\n\nSELECT \n    Nama_Negara,\nFROM Penjualan_Negara\nORDER BY Penjualan ASC\nLIMIT 1;",
    "deepnote_cell_type": "sql",
    "deepnote_cell_height": 518.34375
   },
   "source": "\n\ndf_19 = _deepnote_execute_sql(\"\"\"WITH Penjualan_Negara AS (\nSELECT \n    c.name AS Nama_Negara,\n    SUM(o.quantity * p.price) AS Penjualan\nFROM orders AS o\nINNER JOIN products AS p ON o.product_id = p.id\nINNER JOIN countries AS c ON o.country_id = c.id\nGROUP BY c.name\n)\n\nSELECT \n    Nama_Negara,\nFROM Penjualan_Negara\nORDER BY Penjualan ASC\nLIMIT 1;\n\"\"\", 'SQL_DEEPNOTE_DATAFRAME_SQL')\ndf_19",
   "execution_count": 20,
   "outputs": [
    {
     "output_type": "execute_result",
     "execution_count": 20,
     "data": {
      "application/vnd.deepnote.dataframe.v3+json": {
       "column_count": 1,
       "row_count": 1,
       "columns": [
        {
         "name": "Nama_Negara",
         "dtype": "object",
         "stats": {
          "unique_count": 1,
          "nan_count": 0,
          "categories": [
           {
            "name": "Saudi Arabia",
            "count": 1
           }
          ]
         }
        },
        {
         "name": "_deepnote_index_column",
         "dtype": "int64"
        }
       ],
       "rows": [
        {
         "Nama_Negara": "Saudi Arabia",
         "_deepnote_index_column": "0"
        }
       ]
      },
      "text/plain": "    Nama_Negara\n0  Saudi Arabia",
      "text/html": "<div>\n<style scoped>\n    .dataframe tbody tr th:only-of-type {\n        vertical-align: middle;\n    }\n\n    .dataframe tbody tr th {\n        vertical-align: top;\n    }\n\n    .dataframe thead th {\n        text-align: right;\n    }\n</style>\n<table border=\"1\" class=\"dataframe\">\n  <thead>\n    <tr style=\"text-align: right;\">\n      <th></th>\n      <th>Nama_Negara</th>\n    </tr>\n  </thead>\n  <tbody>\n    <tr>\n      <th>0</th>\n      <td>Saudi Arabia</td>\n    </tr>\n  </tbody>\n</table>\n</div>"
     },
     "metadata": {}
    }
   ]
  },
  {
   "cell_type": "markdown",
   "source": "### -- Kapan penjualan terbesar per hari terjadi?",
   "metadata": {
    "formattedRanges": [],
    "tags": [],
    "cell_id": "95e3bc7c7cd04cd493a643a87d99c39f",
    "is_collapsed": false,
    "deepnote_cell_type": "text-cell-h3"
   }
  },
  {
   "cell_type": "code",
   "metadata": {
    "tags": [],
    "cell_id": "f4ca95db3b6c437d8e896675154420e9",
    "source_hash": "776b7798",
    "execution_start": 1661913623212,
    "execution_millis": 743,
    "sql_integration_id": "deepnote-dataframe-sql",
    "deepnote_variable_name": "df_17",
    "deepnote_to_be_reexecuted": false,
    "deepnote_sql_source": "SELECT\n    DATE_TRUNC('day', invoice_date) AS Bulan,\n    SUM(o.quantity * p.price) AS Penjualan\nFROM orders AS o\nJOIN products AS p ON o.product_id = p.id\nGROUP BY DATE_TRUNC('day', invoice_date)\nORDER BY Penjualan DESC;",
    "deepnote_cell_type": "sql",
    "deepnote_cell_height": 743.234375
   },
   "source": "\n\ndf_17 = _deepnote_execute_sql(\"\"\"SELECT\n    DATE_TRUNC('day', invoice_date) AS Bulan,\n    SUM(o.quantity * p.price) AS Penjualan\nFROM orders AS o\nJOIN products AS p ON o.product_id = p.id\nGROUP BY DATE_TRUNC('day', invoice_date)\nORDER BY Penjualan DESC;\n\"\"\", 'SQL_DEEPNOTE_DATAFRAME_SQL')\ndf_17",
   "execution_count": 21,
   "outputs": [
    {
     "output_type": "execute_result",
     "execution_count": 21,
     "data": {
      "application/vnd.deepnote.dataframe.v3+json": {
       "column_count": 2,
       "row_count": 285,
       "columns": [
        {
         "name": "Bulan",
         "dtype": "datetime64[ns]",
         "stats": {
          "unique_count": 285,
          "nan_count": 0,
          "min": "2021-01-01 00:00:00",
          "max": "2021-12-06 00:00:00",
          "histogram": [
           {
            "bin_start": 1609459200000000000,
            "bin_end": 1612388160000000000,
            "count": 29
           },
           {
            "bin_start": 1612388160000000000,
            "bin_end": 1615317120000000000,
            "count": 29
           },
           {
            "bin_start": 1615317120000000000,
            "bin_end": 1618246080000000000,
            "count": 30
           },
           {
            "bin_start": 1618246080000000000,
            "bin_end": 1621175040000000000,
            "count": 24
           },
           {
            "bin_start": 1621175040000000000,
            "bin_end": 1624104000000000000,
            "count": 28
           },
           {
            "bin_start": 1624104000000000000,
            "bin_end": 1627032960000000000,
            "count": 29
           },
           {
            "bin_start": 1627032960000000000,
            "bin_end": 1629961920000000000,
            "count": 28
           },
           {
            "bin_start": 1629961920000000000,
            "bin_end": 1632890880000000000,
            "count": 29
           },
           {
            "bin_start": 1632890880000000000,
            "bin_end": 1635819840000000000,
            "count": 29
           },
           {
            "bin_start": 1635819840000000000,
            "bin_end": 1638748800000000000,
            "count": 30
           }
          ]
         }
        },
        {
         "name": "Penjualan",
         "dtype": "float64",
         "stats": {
          "unique_count": 285,
          "nan_count": 0,
          "min": "3535.0261486729987",
          "max": "162971.24676373697",
          "histogram": [
           {
            "bin_start": 3535.0261486729987,
            "bin_end": 19478.648210179395,
            "count": 30
           },
           {
            "bin_start": 19478.648210179395,
            "bin_end": 35422.2702716858,
            "count": 91
           },
           {
            "bin_start": 35422.2702716858,
            "bin_end": 51365.8923331922,
            "count": 71
           },
           {
            "bin_start": 51365.8923331922,
            "bin_end": 67309.51439469859,
            "count": 48
           },
           {
            "bin_start": 67309.51439469859,
            "bin_end": 83253.13645620499,
            "count": 20
           },
           {
            "bin_start": 83253.13645620499,
            "bin_end": 99196.7585177114,
            "count": 11
           },
           {
            "bin_start": 99196.7585177114,
            "bin_end": 115140.38057921779,
            "count": 8
           },
           {
            "bin_start": 115140.38057921779,
            "bin_end": 131084.00264072418,
            "count": 1
           },
           {
            "bin_start": 131084.00264072418,
            "bin_end": 147027.6247022306,
            "count": 3
           },
           {
            "bin_start": 147027.6247022306,
            "bin_end": 162971.24676373697,
            "count": 2
           }
          ]
         }
        },
        {
         "name": "_deepnote_index_column",
         "dtype": "int64"
        }
       ],
       "rows": [
        {
         "Bulan": "2021-11-11 00:00:00",
         "Penjualan": "162971.24676373697",
         "_deepnote_index_column": "0"
        },
        {
         "Bulan": "2021-11-13 00:00:00",
         "Penjualan": "149427.82938535794",
         "_deepnote_index_column": "1"
        },
        {
         "Bulan": "2021-01-15 00:00:00",
         "Penjualan": "142832.3539727172",
         "_deepnote_index_column": "2"
        },
        {
         "Bulan": "2021-08-15 00:00:00",
         "Penjualan": "135333.48106100195",
         "_deepnote_index_column": "3"
        },
        {
         "Bulan": "2021-05-09 00:00:00",
         "Penjualan": "135228.12348643105",
         "_deepnote_index_column": "4"
        },
        {
         "Bulan": "2021-08-08 00:00:00",
         "Penjualan": "123073.99457292701",
         "_deepnote_index_column": "5"
        },
        {
         "Bulan": "2021-10-02 00:00:00",
         "Penjualan": "114500.87418087799",
         "_deepnote_index_column": "6"
        },
        {
         "Bulan": "2021-09-17 00:00:00",
         "Penjualan": "110417.23756686694",
         "_deepnote_index_column": "7"
        },
        {
         "Bulan": "2021-10-03 00:00:00",
         "Penjualan": "108308.40604768407",
         "_deepnote_index_column": "8"
        },
        {
         "Bulan": "2021-11-06 00:00:00",
         "Penjualan": "106202.18787977996",
         "_deepnote_index_column": "9"
        }
       ]
      },
      "text/plain": "         Bulan      Penjualan\n0   2021-11-11  162971.246764\n1   2021-11-13  149427.829385\n2   2021-01-15  142832.353973\n3   2021-08-15  135333.481061\n4   2021-05-09  135228.123486\n..         ...            ...\n280 2021-06-23    8099.104804\n281 2021-02-10    7586.150075\n282 2021-08-11    7092.433549\n283 2021-03-10    6246.938738\n284 2021-02-03    3535.026149\n\n[285 rows x 2 columns]",
      "text/html": "<div>\n<style scoped>\n    .dataframe tbody tr th:only-of-type {\n        vertical-align: middle;\n    }\n\n    .dataframe tbody tr th {\n        vertical-align: top;\n    }\n\n    .dataframe thead th {\n        text-align: right;\n    }\n</style>\n<table border=\"1\" class=\"dataframe\">\n  <thead>\n    <tr style=\"text-align: right;\">\n      <th></th>\n      <th>Bulan</th>\n      <th>Penjualan</th>\n    </tr>\n  </thead>\n  <tbody>\n    <tr>\n      <th>0</th>\n      <td>2021-11-11</td>\n      <td>162971.246764</td>\n    </tr>\n    <tr>\n      <th>1</th>\n      <td>2021-11-13</td>\n      <td>149427.829385</td>\n    </tr>\n    <tr>\n      <th>2</th>\n      <td>2021-01-15</td>\n      <td>142832.353973</td>\n    </tr>\n    <tr>\n      <th>3</th>\n      <td>2021-08-15</td>\n      <td>135333.481061</td>\n    </tr>\n    <tr>\n      <th>4</th>\n      <td>2021-05-09</td>\n      <td>135228.123486</td>\n    </tr>\n    <tr>\n      <th>...</th>\n      <td>...</td>\n      <td>...</td>\n    </tr>\n    <tr>\n      <th>280</th>\n      <td>2021-06-23</td>\n      <td>8099.104804</td>\n    </tr>\n    <tr>\n      <th>281</th>\n      <td>2021-02-10</td>\n      <td>7586.150075</td>\n    </tr>\n    <tr>\n      <th>282</th>\n      <td>2021-08-11</td>\n      <td>7092.433549</td>\n    </tr>\n    <tr>\n      <th>283</th>\n      <td>2021-03-10</td>\n      <td>6246.938738</td>\n    </tr>\n    <tr>\n      <th>284</th>\n      <td>2021-02-03</td>\n      <td>3535.026149</td>\n    </tr>\n  </tbody>\n</table>\n<p>285 rows × 2 columns</p>\n</div>"
     },
     "metadata": {}
    }
   ]
  },
  {
   "cell_type": "code",
   "source": "_deepnote_run_altair(df_17, \"\"\"{\"data\":{\"name\":\"placeholder\"},\"mark\":{\"type\":\"bar\",\"tooltip\":true},\"height\":220,\"$schema\":\"https://vega.github.io/schema/vega-lite/v4.json\",\"autosize\":{\"type\":\"fit\"},\"encoding\":{\"x\":{\"sort\":null,\"type\":\"temporal\",\"field\":\"Bulan\",\"scale\":{\"type\":\"linear\",\"zero\":false}},\"y\":{\"sort\":null,\"type\":\"quantitative\",\"field\":\"Penjualan\",\"scale\":{\"type\":\"linear\",\"zero\":true}},\"color\":{\"sort\":null,\"type\":\"nominal\",\"field\":\"\",\"scale\":{\"type\":\"linear\",\"zero\":false}}}}\"\"\")",
   "metadata": {
    "cell_id": "8f833af8bc2a47319c4b223b150b55b5",
    "source_hash": "7a7f5582",
    "execution_start": 1661913659016,
    "execution_millis": 210,
    "deepnote_variable_name": "df_17",
    "deepnote_to_be_reexecuted": false,
    "deepnote_visualization_spec": {
     "data": {
      "name": "placeholder"
     },
     "mark": {
      "type": "bar",
      "tooltip": true
     },
     "height": 220,
     "$schema": "https://vega.github.io/schema/vega-lite/v4.json",
     "autosize": {
      "type": "fit"
     },
     "encoding": {
      "x": {
       "sort": null,
       "type": "temporal",
       "field": "Bulan",
       "scale": {
        "type": "linear",
        "zero": false
       }
      },
      "y": {
       "sort": null,
       "type": "quantitative",
       "field": "Penjualan",
       "scale": {
        "type": "linear",
        "zero": true
       }
      },
      "color": {
       "sort": null,
       "type": "nominal",
       "field": "",
       "scale": {
        "type": "linear",
        "zero": false
       }
      }
     }
    },
    "deepnote_cell_type": "visualization"
   },
   "execution_count": 26,
   "outputs": [
    {
     "output_type": "execute_result",
     "execution_count": 26,
     "data": {
      "text/html": "\n<div id=\"altair-viz-f826b6ef960e4adcb78b8a16b44ef21b\"></div>\n<script type=\"text/javascript\">\n  (function(spec, embedOpt){\n    let outputDiv = document.currentScript.previousElementSibling;\n    if (outputDiv.id !== \"altair-viz-f826b6ef960e4adcb78b8a16b44ef21b\") {\n      outputDiv = document.getElementById(\"altair-viz-f826b6ef960e4adcb78b8a16b44ef21b\");\n    }\n    const paths = {\n      \"vega\": \"https://cdn.jsdelivr.net/npm//vega@5?noext\",\n      \"vega-lib\": \"https://cdn.jsdelivr.net/npm//vega-lib?noext\",\n      \"vega-lite\": \"https://cdn.jsdelivr.net/npm//vega-lite@4.8.1?noext\",\n      \"vega-embed\": \"https://cdn.jsdelivr.net/npm//vega-embed@6?noext\",\n    };\n\n    function loadScript(lib) {\n      return new Promise(function(resolve, reject) {\n        var s = document.createElement('script');\n        s.src = paths[lib];\n        s.async = true;\n        s.onload = () => resolve(paths[lib]);\n        s.onerror = () => reject(`Error loading script: ${paths[lib]}`);\n        document.getElementsByTagName(\"head\")[0].appendChild(s);\n      });\n    }\n\n    function showError(err) {\n      outputDiv.innerHTML = `<div class=\"error\" style=\"color:red;\">${err}</div>`;\n      throw err;\n    }\n\n    function displayChart(vegaEmbed) {\n      vegaEmbed(outputDiv, spec, embedOpt)\n        .catch(err => showError(`Javascript Error: ${err.message}<br>This usually means there's a typo in your chart specification. See the javascript console for the full traceback.`));\n    }\n\n    if(typeof define === \"function\" && define.amd) {\n      requirejs.config({paths});\n      require([\"vega-embed\"], displayChart, err => showError(`Error loading script: ${err.message}`));\n    } else if (typeof vegaEmbed === \"function\") {\n      displayChart(vegaEmbed);\n    } else {\n      loadScript(\"vega\")\n        .then(() => loadScript(\"vega-lite\"))\n        .then(() => loadScript(\"vega-embed\"))\n        .catch(showError)\n        .then(() => displayChart(vegaEmbed));\n    }\n  })({\"config\": {\"view\": {\"continuousWidth\": 400, \"continuousHeight\": 300}, \"area\": {\"fill\": \"#51C0E9\"}, \"axis\": {\"labelFont\": \"Inter, sans-serif\", \"labelFontSize\": 12, \"labelFontWeight\": \"normal\", \"labelLimit\": 60, \"labelOverlap\": \"greedy\", \"titleFont\": \"Inter, sans-serif\", \"titleFontSize\": 12, \"titleFontWeight\": \"bold\"}, \"background\": \"#ffffff\", \"legend\": {\"labelFont\": \"Inter, sans-serif\", \"labelFontSize\": 12, \"titleFont\": \"Inter, sans-serif\", \"titleFontSize\": 12, \"titleFontWeight\": \"bold\"}, \"line\": {\"stroke\": \"#51C0E9\", \"strokeWidth\": 2}, \"rect\": {\"fill\": \"#51C0E9\"}, \"title\": {\"anchor\": \"start\", \"color\": \"#000000\", \"font\": \"Inter, sans-serif\", \"fontSize\": 22, \"fontWeight\": \"normal\"}}, \"data\": {\"name\": \"data-23dfb59642f611f3ebcffe33e28a896a\"}, \"mark\": {\"type\": \"bar\", \"tooltip\": true}, \"autosize\": {\"type\": \"fit\"}, \"encoding\": {\"color\": {\"type\": \"nominal\", \"field\": \"\", \"scale\": {\"type\": \"linear\", \"zero\": false}, \"sort\": null}, \"x\": {\"type\": \"temporal\", \"field\": \"Bulan\", \"scale\": {\"type\": \"linear\", \"zero\": false}, \"sort\": null}, \"y\": {\"type\": \"quantitative\", \"field\": \"Penjualan\", \"scale\": {\"type\": \"linear\", \"zero\": true}, \"sort\": null}}, \"height\": 300, \"width\": \"container\", \"$schema\": \"https://vega.github.io/schema/vega-lite/v4.json\", \"datasets\": {\"data-23dfb59642f611f3ebcffe33e28a896a\": [{\"Bulan\": \"2021-11-11T00:00:00\", \"Penjualan\": 162971.24676373697}, {\"Bulan\": \"2021-11-13T00:00:00\", \"Penjualan\": 149427.82938535794}, {\"Bulan\": \"2021-01-15T00:00:00\", \"Penjualan\": 142832.3539727172}, {\"Bulan\": \"2021-08-15T00:00:00\", \"Penjualan\": 135333.48106100195}, {\"Bulan\": \"2021-05-09T00:00:00\", \"Penjualan\": 135228.12348643105}, {\"Bulan\": \"2021-08-08T00:00:00\", \"Penjualan\": 123073.99457292701}, {\"Bulan\": \"2021-10-02T00:00:00\", \"Penjualan\": 114500.87418087799}, {\"Bulan\": \"2021-09-17T00:00:00\", \"Penjualan\": 110417.23756686694}, {\"Bulan\": \"2021-10-03T00:00:00\", \"Penjualan\": 108308.40604768407}, {\"Bulan\": \"2021-11-06T00:00:00\", \"Penjualan\": 106202.18787977996}, {\"Bulan\": \"2021-12-02T00:00:00\", \"Penjualan\": 105450.78388613192}, {\"Bulan\": \"2021-12-04T00:00:00\", \"Penjualan\": 105173.20322310505}, {\"Bulan\": \"2021-11-07T00:00:00\", \"Penjualan\": 103758.06071262804}, {\"Bulan\": \"2021-10-17T00:00:00\", \"Penjualan\": 101466.57702835306}, {\"Bulan\": \"2021-10-31T00:00:00\", \"Penjualan\": 97063.94577513408}, {\"Bulan\": \"2021-10-10T00:00:00\", \"Penjualan\": 95133.59181617814}, {\"Bulan\": \"2021-09-19T00:00:00\", \"Penjualan\": 92873.91125455307}, {\"Bulan\": \"2021-08-01T00:00:00\", \"Penjualan\": 92650.850206823}, {\"Bulan\": \"2021-07-25T00:00:00\", \"Penjualan\": 91675.22689303497}, {\"Bulan\": \"2021-11-01T00:00:00\", \"Penjualan\": 88375.94266073799}, {\"Bulan\": \"2021-11-18T00:00:00\", \"Penjualan\": 87958.53890201508}, {\"Bulan\": \"2021-09-10T00:00:00\", \"Penjualan\": 85674.06049061503}, {\"Bulan\": \"2021-11-20T00:00:00\", \"Penjualan\": 85033.184474191}, {\"Bulan\": \"2021-02-11T00:00:00\", \"Penjualan\": 83412.35874880599}, {\"Bulan\": \"2021-10-08T00:00:00\", \"Penjualan\": 83258.48328606595}, {\"Bulan\": \"2021-10-18T00:00:00\", \"Penjualan\": 82624.91209414697}, {\"Bulan\": \"2021-10-04T00:00:00\", \"Penjualan\": 82602.05345245093}, {\"Bulan\": \"2021-12-03T00:00:00\", \"Penjualan\": 82461.07973458694}, {\"Bulan\": \"2021-10-01T00:00:00\", \"Penjualan\": 82233.12773563102}, {\"Bulan\": \"2021-11-14T00:00:00\", \"Penjualan\": 81899.44472208987}, {\"Bulan\": \"2021-10-14T00:00:00\", \"Penjualan\": 79585.38856450396}, {\"Bulan\": \"2021-06-12T00:00:00\", \"Penjualan\": 78403.82458055903}, {\"Bulan\": \"2021-10-22T00:00:00\", \"Penjualan\": 77962.69849046097}, {\"Bulan\": \"2021-08-30T00:00:00\", \"Penjualan\": 77169.98020860506}, {\"Bulan\": \"2021-10-24T00:00:00\", \"Penjualan\": 76507.12239915205}, {\"Bulan\": \"2021-11-22T00:00:00\", \"Penjualan\": 76447.59658039396}, {\"Bulan\": \"2021-12-05T00:00:00\", \"Penjualan\": 76171.01981988296}, {\"Bulan\": \"2021-09-16T00:00:00\", \"Penjualan\": 75401.78369523204}, {\"Bulan\": \"2021-07-16T00:00:00\", \"Penjualan\": 75149.170345336}, {\"Bulan\": \"2021-06-06T00:00:00\", \"Penjualan\": 74014.03555943299}, {\"Bulan\": \"2021-05-14T00:00:00\", \"Penjualan\": 72846.98460278501}, {\"Bulan\": \"2021-09-26T00:00:00\", \"Penjualan\": 72454.46279246495}, {\"Bulan\": \"2021-10-07T00:00:00\", \"Penjualan\": 69647.20334601997}, {\"Bulan\": \"2021-11-19T00:00:00\", \"Penjualan\": 69125.00751472602}, {\"Bulan\": \"2021-11-29T00:00:00\", \"Penjualan\": 67614.61024511898}, {\"Bulan\": \"2021-10-30T00:00:00\", \"Penjualan\": 67026.01664554997}, {\"Bulan\": \"2021-07-08T00:00:00\", \"Penjualan\": 66360.228528926}, {\"Bulan\": \"2021-06-25T00:00:00\", \"Penjualan\": 65904.47675984702}, {\"Bulan\": \"2021-06-14T00:00:00\", \"Penjualan\": 65750.46548041698}, {\"Bulan\": \"2021-06-13T00:00:00\", \"Penjualan\": 64798.39793578896}, {\"Bulan\": \"2021-11-10T00:00:00\", \"Penjualan\": 64614.50132477099}, {\"Bulan\": \"2021-03-26T00:00:00\", \"Penjualan\": 64586.76181903698}, {\"Bulan\": \"2021-10-15T00:00:00\", \"Penjualan\": 64085.840936716035}, {\"Bulan\": \"2021-11-28T00:00:00\", \"Penjualan\": 63820.02782669902}, {\"Bulan\": \"2021-11-26T00:00:00\", \"Penjualan\": 63466.15112699094}, {\"Bulan\": \"2021-08-14T00:00:00\", \"Penjualan\": 62985.71948435494}, {\"Bulan\": \"2021-11-25T00:00:00\", \"Penjualan\": 62918.55358367}, {\"Bulan\": \"2021-03-27T00:00:00\", \"Penjualan\": 62269.78710747094}, {\"Bulan\": \"2021-11-27T00:00:00\", \"Penjualan\": 62083.570822805035}, {\"Bulan\": \"2021-10-21T00:00:00\", \"Penjualan\": 61610.74700373602}, {\"Bulan\": \"2021-02-18T00:00:00\", \"Penjualan\": 60146.55129579999}, {\"Bulan\": \"2021-09-12T00:00:00\", \"Penjualan\": 60116.77149099202}, {\"Bulan\": \"2021-06-27T00:00:00\", \"Penjualan\": 59320.81464246801}, {\"Bulan\": \"2021-11-12T00:00:00\", \"Penjualan\": 58480.90102165}, {\"Bulan\": \"2021-11-08T00:00:00\", \"Penjualan\": 58251.49333109601}, {\"Bulan\": \"2021-08-29T00:00:00\", \"Penjualan\": 58243.86458227497}, {\"Bulan\": \"2021-05-15T00:00:00\", \"Penjualan\": 58093.86401161396}, {\"Bulan\": \"2021-05-16T00:00:00\", \"Penjualan\": 57982.58149282894}, {\"Bulan\": \"2021-02-12T00:00:00\", \"Penjualan\": 57887.52121114299}, {\"Bulan\": \"2021-02-19T00:00:00\", \"Penjualan\": 56906.29264329901}, {\"Bulan\": \"2021-11-03T00:00:00\", \"Penjualan\": 56689.536491199964}, {\"Bulan\": \"2021-09-08T00:00:00\", \"Penjualan\": 56492.89592618702}, {\"Bulan\": \"2021-07-28T00:00:00\", \"Penjualan\": 56428.500427026986}, {\"Bulan\": \"2021-04-17T00:00:00\", \"Penjualan\": 56224.28540721193}, {\"Bulan\": \"2021-10-09T00:00:00\", \"Penjualan\": 56066.38995837897}, {\"Bulan\": \"2021-01-11T00:00:00\", \"Penjualan\": 55835.88721754802}, {\"Bulan\": \"2021-04-11T00:00:00\", \"Penjualan\": 55675.27785741199}, {\"Bulan\": \"2021-08-21T00:00:00\", \"Penjualan\": 55456.80588863499}, {\"Bulan\": \"2021-04-10T00:00:00\", \"Penjualan\": 55314.875680898964}, {\"Bulan\": \"2021-09-09T00:00:00\", \"Penjualan\": 55161.696103655006}, {\"Bulan\": \"2021-11-21T00:00:00\", \"Penjualan\": 54647.88887305904}, {\"Bulan\": \"2021-02-05T00:00:00\", \"Penjualan\": 54466.15178107504}, {\"Bulan\": \"2021-10-27T00:00:00\", \"Penjualan\": 53842.971466146}, {\"Bulan\": \"2021-09-02T00:00:00\", \"Penjualan\": 53834.26541841605}, {\"Bulan\": \"2021-05-03T00:00:00\", \"Penjualan\": 53562.389267036015}, {\"Bulan\": \"2021-07-21T00:00:00\", \"Penjualan\": 53072.157088860025}, {\"Bulan\": \"2021-05-13T00:00:00\", \"Penjualan\": 52947.437099279996}, {\"Bulan\": \"2021-09-25T00:00:00\", \"Penjualan\": 52830.762022239025}, {\"Bulan\": \"2021-06-20T00:00:00\", \"Penjualan\": 52803.77641707695}, {\"Bulan\": \"2021-02-26T00:00:00\", \"Penjualan\": 52266.97795948697}, {\"Bulan\": \"2021-09-27T00:00:00\", \"Penjualan\": 52252.821508918}, {\"Bulan\": \"2021-09-30T00:00:00\", \"Penjualan\": 51835.423610592006}, {\"Bulan\": \"2021-10-23T00:00:00\", \"Penjualan\": 51437.879056832026}, {\"Bulan\": \"2021-09-23T00:00:00\", \"Penjualan\": 50986.39407977405}, {\"Bulan\": \"2021-11-05T00:00:00\", \"Penjualan\": 50898.22741033698}, {\"Bulan\": \"2021-11-15T00:00:00\", \"Penjualan\": 50107.926816292995}, {\"Bulan\": \"2021-04-15T00:00:00\", \"Penjualan\": 49867.106444332}, {\"Bulan\": \"2021-01-03T00:00:00\", \"Penjualan\": 49763.973832546}, {\"Bulan\": \"2021-03-14T00:00:00\", \"Penjualan\": 49675.18787277602}, {\"Bulan\": \"2021-07-02T00:00:00\", \"Penjualan\": 49476.80090611099}, {\"Bulan\": \"2021-09-20T00:00:00\", \"Penjualan\": 47897.571484942}, {\"Bulan\": \"2021-10-29T00:00:00\", \"Penjualan\": 47488.86489455101}, {\"Bulan\": \"2021-05-08T00:00:00\", \"Penjualan\": 47163.10071451601}, {\"Bulan\": \"2021-08-20T00:00:00\", \"Penjualan\": 47131.830918359025}, {\"Bulan\": \"2021-01-02T00:00:00\", \"Penjualan\": 47073.47971881101}, {\"Bulan\": \"2021-09-22T00:00:00\", \"Penjualan\": 46550.676062875005}, {\"Bulan\": \"2021-10-25T00:00:00\", \"Penjualan\": 46440.60657601997}, {\"Bulan\": \"2021-08-19T00:00:00\", \"Penjualan\": 45504.183376069006}, {\"Bulan\": \"2021-09-18T00:00:00\", \"Penjualan\": 45217.588543344}, {\"Bulan\": \"2021-04-18T00:00:00\", \"Penjualan\": 44879.10435669497}, {\"Bulan\": \"2021-04-02T00:00:00\", \"Penjualan\": 44296.86843501801}, {\"Bulan\": \"2021-07-03T00:00:00\", \"Penjualan\": 44053.221328123}, {\"Bulan\": \"2021-02-13T00:00:00\", \"Penjualan\": 43917.04190719096}, {\"Bulan\": \"2021-07-22T00:00:00\", \"Penjualan\": 43894.58846580096}, {\"Bulan\": \"2021-11-17T00:00:00\", \"Penjualan\": 43825.86584010899}, {\"Bulan\": \"2021-09-13T00:00:00\", \"Penjualan\": 43599.92831565202}, {\"Bulan\": \"2021-09-24T00:00:00\", \"Penjualan\": 43478.749764074986}, {\"Bulan\": \"2021-10-16T00:00:00\", \"Penjualan\": 43457.38797303202}, {\"Bulan\": \"2021-02-28T00:00:00\", \"Penjualan\": 43325.39790960598}, {\"Bulan\": \"2021-03-11T00:00:00\", \"Penjualan\": 43278.93111182203}, {\"Bulan\": \"2021-01-29T00:00:00\", \"Penjualan\": 43257.753990966994}, {\"Bulan\": \"2021-11-04T00:00:00\", \"Penjualan\": 43169.18925139}, {\"Bulan\": \"2021-02-07T00:00:00\", \"Penjualan\": 42872.85778373599}, {\"Bulan\": \"2021-04-24T00:00:00\", \"Penjualan\": 42871.66063946602}, {\"Bulan\": \"2021-05-17T00:00:00\", \"Penjualan\": 42651.16383646501}, {\"Bulan\": \"2021-08-07T00:00:00\", \"Penjualan\": 42636.81166887999}, {\"Bulan\": \"2021-05-19T00:00:00\", \"Penjualan\": 42531.85691551601}, {\"Bulan\": \"2021-05-02T00:00:00\", \"Penjualan\": 42480.87465345299}, {\"Bulan\": \"2021-10-28T00:00:00\", \"Penjualan\": 42222.48324123399}, {\"Bulan\": \"2021-03-07T00:00:00\", \"Penjualan\": 41808.403352870984}, {\"Bulan\": \"2021-06-04T00:00:00\", \"Penjualan\": 41638.631363022}, {\"Bulan\": \"2021-03-17T00:00:00\", \"Penjualan\": 41632.596543841995}, {\"Bulan\": \"2021-05-20T00:00:00\", \"Penjualan\": 41609.82421234498}, {\"Bulan\": \"2021-03-29T00:00:00\", \"Penjualan\": 41575.87623170497}, {\"Bulan\": \"2021-09-06T00:00:00\", \"Penjualan\": 41168.85303170602}, {\"Bulan\": \"2021-06-05T00:00:00\", \"Penjualan\": 40897.04245035302}, {\"Bulan\": \"2021-07-11T00:00:00\", \"Penjualan\": 40660.14274071302}, {\"Bulan\": \"2021-06-18T00:00:00\", \"Penjualan\": 40165.73413716999}, {\"Bulan\": \"2021-06-16T00:00:00\", \"Penjualan\": 40065.16534108999}, {\"Bulan\": \"2021-08-23T00:00:00\", \"Penjualan\": 39901.133874495004}, {\"Bulan\": \"2021-07-18T00:00:00\", \"Penjualan\": 39643.219670292994}, {\"Bulan\": \"2021-06-19T00:00:00\", \"Penjualan\": 39440.88741214503}, {\"Bulan\": \"2021-03-21T00:00:00\", \"Penjualan\": 39334.82072211801}, {\"Bulan\": \"2021-01-31T00:00:00\", \"Penjualan\": 39328.48052967501}, {\"Bulan\": \"2021-10-11T00:00:00\", \"Penjualan\": 39174.77227342396}, {\"Bulan\": \"2021-07-04T00:00:00\", \"Penjualan\": 38657.741386259}, {\"Bulan\": \"2021-05-07T00:00:00\", \"Penjualan\": 38166.44700073001}, {\"Bulan\": \"2021-06-17T00:00:00\", \"Penjualan\": 38109.59915460199}, {\"Bulan\": \"2021-07-10T00:00:00\", \"Penjualan\": 38071.88011955299}, {\"Bulan\": \"2021-07-17T00:00:00\", \"Penjualan\": 37888.51900757703}, {\"Bulan\": \"2021-07-31T00:00:00\", \"Penjualan\": 37532.83971758901}, {\"Bulan\": \"2021-03-13T00:00:00\", \"Penjualan\": 37465.658151161}, {\"Bulan\": \"2021-09-04T00:00:00\", \"Penjualan\": 37461.426860734005}, {\"Bulan\": \"2021-02-14T00:00:00\", \"Penjualan\": 37258.30338376899}, {\"Bulan\": \"2021-03-28T00:00:00\", \"Penjualan\": 37224.940817632}, {\"Bulan\": \"2021-09-05T00:00:00\", \"Penjualan\": 37208.78431267101}, {\"Bulan\": \"2021-05-01T00:00:00\", \"Penjualan\": 36633.21586630297}, {\"Bulan\": \"2021-06-10T00:00:00\", \"Penjualan\": 36377.28006440199}, {\"Bulan\": \"2021-01-08T00:00:00\", \"Penjualan\": 36300.40273364101}, {\"Bulan\": \"2021-05-30T00:00:00\", \"Penjualan\": 36279.86789761099}, {\"Bulan\": \"2021-03-19T00:00:00\", \"Penjualan\": 36270.91470912301}, {\"Bulan\": \"2021-12-01T00:00:00\", \"Penjualan\": 36254.01551448298}, {\"Bulan\": \"2021-01-04T00:00:00\", \"Penjualan\": 36038.257443507}, {\"Bulan\": \"2021-05-28T00:00:00\", \"Penjualan\": 35700.95686534099}, {\"Bulan\": \"2021-03-22T00:00:00\", \"Penjualan\": 35352.476485881}, {\"Bulan\": \"2021-01-28T00:00:00\", \"Penjualan\": 35260.98182160701}, {\"Bulan\": \"2021-07-30T00:00:00\", \"Penjualan\": 35026.86524190499}, {\"Bulan\": \"2021-01-16T00:00:00\", \"Penjualan\": 34881.62416881899}, {\"Bulan\": \"2021-03-01T00:00:00\", \"Penjualan\": 34745.54842420101}, {\"Bulan\": \"2021-05-23T00:00:00\", \"Penjualan\": 34075.919743605}, {\"Bulan\": \"2021-06-02T00:00:00\", \"Penjualan\": 33543.07622849399}, {\"Bulan\": \"2021-04-23T00:00:00\", \"Penjualan\": 33112.95285358203}, {\"Bulan\": \"2021-04-09T00:00:00\", \"Penjualan\": 33055.85745508803}, {\"Bulan\": \"2021-05-10T00:00:00\", \"Penjualan\": 33022.00465514501}, {\"Bulan\": \"2021-04-01T00:00:00\", \"Penjualan\": 33015.48083072298}, {\"Bulan\": \"2021-09-11T00:00:00\", \"Penjualan\": 32888.51572898601}, {\"Bulan\": \"2021-03-20T00:00:00\", \"Penjualan\": 32848.46594556898}, {\"Bulan\": \"2021-01-18T00:00:00\", \"Penjualan\": 32786.457194598996}, {\"Bulan\": \"2021-01-22T00:00:00\", \"Penjualan\": 32778.09786284201}, {\"Bulan\": \"2021-09-03T00:00:00\", \"Penjualan\": 32395.682329248983}, {\"Bulan\": \"2021-07-15T00:00:00\", \"Penjualan\": 32145.797023809988}, {\"Bulan\": \"2021-08-06T00:00:00\", \"Penjualan\": 31942.812849098016}, {\"Bulan\": \"2021-01-07T00:00:00\", \"Penjualan\": 31840.666402003997}, {\"Bulan\": \"2021-05-21T00:00:00\", \"Penjualan\": 31826.44876566201}, {\"Bulan\": \"2021-04-05T00:00:00\", \"Penjualan\": 31820.073644945005}, {\"Bulan\": \"2021-03-05T00:00:00\", \"Penjualan\": 31632.97063079299}, {\"Bulan\": \"2021-08-12T00:00:00\", \"Penjualan\": 31441.118343355032}, {\"Bulan\": \"2021-07-29T00:00:00\", \"Penjualan\": 31368.375748130013}, {\"Bulan\": \"2021-06-11T00:00:00\", \"Penjualan\": 31104.64080917099}, {\"Bulan\": \"2021-02-08T00:00:00\", \"Penjualan\": 31101.75680667999}, {\"Bulan\": \"2021-03-15T00:00:00\", \"Penjualan\": 31067.275802561002}, {\"Bulan\": \"2021-04-08T00:00:00\", \"Penjualan\": 31001.408510297013}, {\"Bulan\": \"2021-07-23T00:00:00\", \"Penjualan\": 30842.20638104898}, {\"Bulan\": \"2021-04-25T00:00:00\", \"Penjualan\": 30637.258212428027}, {\"Bulan\": \"2021-08-22T00:00:00\", \"Penjualan\": 30564.253084843982}, {\"Bulan\": \"2021-07-24T00:00:00\", \"Penjualan\": 30550.463626180004}, {\"Bulan\": \"2021-01-24T00:00:00\", \"Penjualan\": 30351.436639856012}, {\"Bulan\": \"2021-08-28T00:00:00\", \"Penjualan\": 30332.063549425002}, {\"Bulan\": \"2021-01-23T00:00:00\", \"Penjualan\": 29919.89261024099}, {\"Bulan\": \"2021-11-24T00:00:00\", \"Penjualan\": 29832.299889014004}, {\"Bulan\": \"2021-08-09T00:00:00\", \"Penjualan\": 29779.901363339006}, {\"Bulan\": \"2021-04-16T00:00:00\", \"Penjualan\": 29306.76936305999}, {\"Bulan\": \"2021-08-02T00:00:00\", \"Penjualan\": 29275.370349923003}, {\"Bulan\": \"2021-05-05T00:00:00\", \"Penjualan\": 29092.163395314026}, {\"Bulan\": \"2021-02-22T00:00:00\", \"Penjualan\": 29043.537759437}, {\"Bulan\": \"2021-05-06T00:00:00\", \"Penjualan\": 28810.562038256998}, {\"Bulan\": \"2021-07-09T00:00:00\", \"Penjualan\": 28600.905761921003}, {\"Bulan\": \"2021-04-30T00:00:00\", \"Penjualan\": 28353.850784790004}, {\"Bulan\": \"2021-09-15T00:00:00\", \"Penjualan\": 28200.520605658}, {\"Bulan\": \"2021-08-05T00:00:00\", \"Penjualan\": 28012.87195256699}, {\"Bulan\": \"2021-02-20T00:00:00\", \"Penjualan\": 27899.117852894997}, {\"Bulan\": \"2021-07-14T00:00:00\", \"Penjualan\": 27854.286960897007}, {\"Bulan\": \"2021-07-26T00:00:00\", \"Penjualan\": 27673.230286029}, {\"Bulan\": \"2021-04-03T00:00:00\", \"Penjualan\": 27494.135278728005}, {\"Bulan\": \"2021-05-22T00:00:00\", \"Penjualan\": 27336.411402257}, {\"Bulan\": \"2021-06-07T00:00:00\", \"Penjualan\": 27258.425089043027}, {\"Bulan\": \"2021-08-16T00:00:00\", \"Penjualan\": 27039.895353630018}, {\"Bulan\": \"2021-07-19T00:00:00\", \"Penjualan\": 26905.239382958996}, {\"Bulan\": \"2021-09-01T00:00:00\", \"Penjualan\": 26866.113916403003}, {\"Bulan\": \"2021-03-25T00:00:00\", \"Penjualan\": 26549.557314986996}, {\"Bulan\": \"2021-03-06T00:00:00\", \"Penjualan\": 26427.60508501402}, {\"Bulan\": \"2021-05-24T00:00:00\", \"Penjualan\": 26143.478116059006}, {\"Bulan\": \"2021-05-29T00:00:00\", \"Penjualan\": 25984.19950541899}, {\"Bulan\": \"2021-02-01T00:00:00\", \"Penjualan\": 25944.561110548002}, {\"Bulan\": \"2021-08-13T00:00:00\", \"Penjualan\": 25928.226096639006}, {\"Bulan\": \"2021-01-21T00:00:00\", \"Penjualan\": 25912.724370945012}, {\"Bulan\": \"2021-04-12T00:00:00\", \"Penjualan\": 25668.984681876995}, {\"Bulan\": \"2021-03-04T00:00:00\", \"Penjualan\": 25618.669355816008}, {\"Bulan\": \"2021-06-21T00:00:00\", \"Penjualan\": 25601.728658339995}, {\"Bulan\": \"2021-07-01T00:00:00\", \"Penjualan\": 25327.175544033016}, {\"Bulan\": \"2021-02-21T00:00:00\", \"Penjualan\": 25120.18244086501}, {\"Bulan\": \"2021-07-05T00:00:00\", \"Penjualan\": 25020.629450400003}, {\"Bulan\": \"2021-01-25T00:00:00\", \"Penjualan\": 24962.718551707003}, {\"Bulan\": \"2021-02-27T00:00:00\", \"Penjualan\": 24855.920579846003}, {\"Bulan\": \"2021-10-13T00:00:00\", \"Penjualan\": 23614.317084270995}, {\"Bulan\": \"2021-01-10T00:00:00\", \"Penjualan\": 23585.273439967998}, {\"Bulan\": \"2021-08-18T00:00:00\", \"Penjualan\": 23357.628910375017}, {\"Bulan\": \"2021-02-15T00:00:00\", \"Penjualan\": 23164.503913209}, {\"Bulan\": \"2021-02-25T00:00:00\", \"Penjualan\": 23092.550703678}, {\"Bulan\": \"2021-12-06T00:00:00\", \"Penjualan\": 23062.29218860102}, {\"Bulan\": \"2021-08-25T00:00:00\", \"Penjualan\": 22619.176174098}, {\"Bulan\": \"2021-02-06T00:00:00\", \"Penjualan\": 21596.164058096994}, {\"Bulan\": \"2021-03-08T00:00:00\", \"Penjualan\": 21248.703505008}, {\"Bulan\": \"2021-05-31T00:00:00\", \"Penjualan\": 21191.312470989003}, {\"Bulan\": \"2021-04-04T00:00:00\", \"Penjualan\": 21122.948022598}, {\"Bulan\": \"2021-01-01T00:00:00\", \"Penjualan\": 21088.081933962007}, {\"Bulan\": \"2021-07-07T00:00:00\", \"Penjualan\": 20938.85452265801}, {\"Bulan\": \"2021-03-18T00:00:00\", \"Penjualan\": 20782.034260552013}, {\"Bulan\": \"2021-03-12T00:00:00\", \"Penjualan\": 20427.914743893005}, {\"Bulan\": \"2021-01-30T00:00:00\", \"Penjualan\": 20379.761369852993}, {\"Bulan\": \"2021-02-04T00:00:00\", \"Penjualan\": 20281.846033103007}, {\"Bulan\": \"2021-06-24T00:00:00\", \"Penjualan\": 19906.587075871}, {\"Bulan\": \"2021-05-12T00:00:00\", \"Penjualan\": 19710.354114252998}, {\"Bulan\": \"2021-06-03T00:00:00\", \"Penjualan\": 19607.296089419004}, {\"Bulan\": \"2021-01-14T00:00:00\", \"Penjualan\": 19509.526898424003}, {\"Bulan\": \"2021-09-29T00:00:00\", \"Penjualan\": 18980.114605833005}, {\"Bulan\": \"2021-06-09T00:00:00\", \"Penjualan\": 18715.497691058015}, {\"Bulan\": \"2021-01-17T00:00:00\", \"Penjualan\": 18532.72969723001}, {\"Bulan\": \"2021-01-06T00:00:00\", \"Penjualan\": 18520.841368992005}, {\"Bulan\": \"2021-06-28T00:00:00\", \"Penjualan\": 18397.196438815994}, {\"Bulan\": \"2021-04-14T00:00:00\", \"Penjualan\": 18045.730883841992}, {\"Bulan\": \"2021-01-09T00:00:00\", \"Penjualan\": 17410.112651962983}, {\"Bulan\": \"2021-06-26T00:00:00\", \"Penjualan\": 16970.271366059}, {\"Bulan\": \"2021-07-12T00:00:00\", \"Penjualan\": 16765.59836144199}, {\"Bulan\": \"2021-10-20T00:00:00\", \"Penjualan\": 16761.822373822}, {\"Bulan\": \"2021-10-06T00:00:00\", \"Penjualan\": 16677.850146243018}, {\"Bulan\": \"2021-03-31T00:00:00\", \"Penjualan\": 15322.004695126998}, {\"Bulan\": \"2021-08-04T00:00:00\", \"Penjualan\": 14660.437254666002}, {\"Bulan\": \"2021-02-17T00:00:00\", \"Penjualan\": 14011.452465824004}, {\"Bulan\": \"2021-03-03T00:00:00\", \"Penjualan\": 13398.662078109}, {\"Bulan\": \"2021-02-24T00:00:00\", \"Penjualan\": 12931.658119405005}, {\"Bulan\": \"2021-04-07T00:00:00\", \"Penjualan\": 12343.231585654998}, {\"Bulan\": \"2021-01-20T00:00:00\", \"Penjualan\": 12130.870837050008}, {\"Bulan\": \"2021-03-24T00:00:00\", \"Penjualan\": 9839.615126482997}, {\"Bulan\": \"2021-04-28T00:00:00\", \"Penjualan\": 9797.477173016001}, {\"Bulan\": \"2021-05-26T00:00:00\", \"Penjualan\": 9782.554512265007}, {\"Bulan\": \"2021-08-27T00:00:00\", \"Penjualan\": 9649.047183898}, {\"Bulan\": \"2021-06-30T00:00:00\", \"Penjualan\": 9254.618188289}, {\"Bulan\": \"2021-01-13T00:00:00\", \"Penjualan\": 8938.438461352003}, {\"Bulan\": \"2021-01-27T00:00:00\", \"Penjualan\": 8428.969977910998}, {\"Bulan\": \"2021-06-23T00:00:00\", \"Penjualan\": 8099.104803955996}, {\"Bulan\": \"2021-02-10T00:00:00\", \"Penjualan\": 7586.150075039999}, {\"Bulan\": \"2021-08-11T00:00:00\", \"Penjualan\": 7092.433548572}, {\"Bulan\": \"2021-03-10T00:00:00\", \"Penjualan\": 6246.938737733003}, {\"Bulan\": \"2021-02-03T00:00:00\", \"Penjualan\": 3535.0261486729987}]}}, {\"actions\": false, \"mode\": \"vega-lite\"});\n</script>",
      "text/plain": "alt.Chart(...)"
     },
     "metadata": {}
    }
   ]
  },
  {
   "cell_type": "markdown",
   "source": "### -- Siapa yang paling banyak berbelanja pada bulan November 2021?",
   "metadata": {
    "formattedRanges": [],
    "tags": [],
    "cell_id": "69401b29ba5b49d69eb86590f94fd1c9",
    "is_collapsed": false,
    "deepnote_cell_type": "text-cell-h3"
   }
  },
  {
   "cell_type": "code",
   "metadata": {
    "tags": [],
    "cell_id": "9399185732a54e218349ef5e67093ce8",
    "source_hash": "3cd0137a",
    "execution_start": 1661913623776,
    "execution_millis": 214,
    "sql_integration_id": "deepnote-dataframe-sql",
    "deepnote_table_state": {
     "sortBy": [],
     "filters": [],
     "pageSize": 10,
     "pageIndex": 0
    },
    "deepnote_table_loading": false,
    "deepnote_variable_name": "df_18",
    "deepnote_to_be_reexecuted": false,
    "deepnote_sql_source": "WITH Customer AS (\nSELECT\n    CONCAT(cs.first_name, ' ', last_name) AS Fullname,\n    SUM(o.quantity * p.price) AS Total\nFROM orders AS o\nJOIN products AS p ON o.product_id = p.id\nJOIN customers AS cs ON o.customer_id = cs.id\nWHERE o.invoice_date > '2021-10-30' AND o.invoice_date < '2021-12-01'\nGROUP BY Fullname\nORDER BY Total DESC\nLIMIT 1\n)\n\nSELECT Fullname\nFROM Customer;",
    "deepnote_cell_type": "sql",
    "deepnote_cell_height": 518.34375
   },
   "source": "\n\ndf_18 = _deepnote_execute_sql(\"\"\"WITH Customer AS (\nSELECT\n    CONCAT(cs.first_name, ' ', last_name) AS Fullname,\n    SUM(o.quantity * p.price) AS Total\nFROM orders AS o\nJOIN products AS p ON o.product_id = p.id\nJOIN customers AS cs ON o.customer_id = cs.id\nWHERE o.invoice_date > '2021-10-30' AND o.invoice_date < '2021-12-01'\nGROUP BY Fullname\nORDER BY Total DESC\nLIMIT 1\n)\n\nSELECT Fullname\nFROM Customer;\n\"\"\", 'SQL_DEEPNOTE_DATAFRAME_SQL')\ndf_18",
   "execution_count": 23,
   "outputs": [
    {
     "output_type": "execute_result",
     "execution_count": 23,
     "data": {
      "application/vnd.deepnote.dataframe.v3+json": {
       "column_count": 1,
       "row_count": 1,
       "columns": [
        {
         "name": "Fullname",
         "dtype": "object",
         "stats": {
          "unique_count": 1,
          "nan_count": 0,
          "categories": [
           {
            "name": "Evan Colloff",
            "count": 1
           }
          ]
         }
        },
        {
         "name": "_deepnote_index_column",
         "dtype": "int64"
        }
       ],
       "rows": [
        {
         "Fullname": "Evan Colloff",
         "_deepnote_index_column": "0"
        }
       ]
      },
      "text/plain": "       Fullname\n0  Evan Colloff",
      "text/html": "<div>\n<style scoped>\n    .dataframe tbody tr th:only-of-type {\n        vertical-align: middle;\n    }\n\n    .dataframe tbody tr th {\n        vertical-align: top;\n    }\n\n    .dataframe thead th {\n        text-align: right;\n    }\n</style>\n<table border=\"1\" class=\"dataframe\">\n  <thead>\n    <tr style=\"text-align: right;\">\n      <th></th>\n      <th>Fullname</th>\n    </tr>\n  </thead>\n  <tbody>\n    <tr>\n      <th>0</th>\n      <td>Evan Colloff</td>\n    </tr>\n  </tbody>\n</table>\n</div>"
     },
     "metadata": {}
    }
   ]
  },
  {
   "cell_type": "markdown",
   "source": "Sekian penjelasan mengenai SQL Data Engineering Challenges dan tunggu artikel aku selanjutnya ya. Oh iya, jangan lupa tulis saran dan kritik kalian mengenai artikel ini . . . :) Terimakasih.",
   "metadata": {
    "is_collapsed": false,
    "cell_id": "37dcfe0d8e7547a189d6e0bc158c4c92",
    "tags": [],
    "formattedRanges": [],
    "deepnote_cell_type": "text-cell-p"
   }
  },
  {
   "cell_type": "markdown",
   "source": "## References",
   "metadata": {
    "is_collapsed": false,
    "cell_id": "bb818df98bca43daa551d12d285947e3",
    "tags": [],
    "formattedRanges": [],
    "deepnote_cell_type": "text-cell-h2"
   }
  },
  {
   "cell_type": "markdown",
   "source": "Mentor: Bima Putra Pratama - Analytics Engineer ",
   "metadata": {
    "is_collapsed": false,
    "cell_id": "1416475d093643858adb8eb82823156b",
    "tags": [],
    "formattedRanges": [
     {
      "type": "marks",
      "fromCodePoint": 0,
      "toCodePoint": 48,
      "marks": {
       "bold": true
      }
     }
    ],
    "deepnote_cell_type": "text-cell-p"
   }
  },
  {
   "cell_type": "markdown",
   "source": "https://dqlab.id/",
   "metadata": {
    "is_collapsed": false,
    "cell_id": "61c79572-8da9-4790-850c-068d150f459e",
    "tags": [],
    "formattedRanges": [
     {
      "type": "link",
      "url": "https://dqlab.id/",
      "fromCodePoint": 0,
      "toCodePoint": 17,
      "ranges": []
     }
    ],
    "deepnote_cell_type": "text-cell-p"
   }
  },
  {
   "cell_type": "markdown",
   "source": "https://digitalent.kominfo.go.id/",
   "metadata": {
    "is_collapsed": false,
    "cell_id": "47706aaf-50a7-45fd-9048-0a63aa4274de",
    "tags": [],
    "formattedRanges": [
     {
      "type": "link",
      "url": "https://digitalent.kominfo.go.id/",
      "fromCodePoint": 0,
      "toCodePoint": 33,
      "ranges": []
     },
     {
      "type": "link",
      "url": "https://dqlab.id/",
      "fromCodePoint": 33,
      "toCodePoint": 33,
      "ranges": []
     }
    ],
    "deepnote_cell_type": "text-cell-p"
   }
  },
  {
   "cell_type": "markdown",
   "source": "<a style='text-decoration:none;line-height:16px;display:flex;color:#5B5B62;padding:10px;justify-content:end;' href='https://deepnote.com?utm_source=created-in-deepnote-cell&projectId=9b17787b-7457-4f98-a818-69afdf479f71' target=\"_blank\">\n<img alt='Created in deepnote.com' style='display:inline;max-height:16px;margin:0px;margin-right:7.5px;' src='data:image/svg+xml;base64,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' > </img>\nCreated in <span style='font-weight:600;margin-left:4px;'>Deepnote</span></a>",
   "metadata": {
    "tags": [],
    "created_in_deepnote_cell": true,
    "deepnote_cell_type": "markdown"
   }
  }
 ],
 "nbformat": 4,
 "nbformat_minor": 0,
 "metadata": {
  "deepnote": {},
  "orig_nbformat": 2,
  "deepnote_notebook_id": "cca0052bd3f443dc8df208db36a30cbc",
  "deepnote_execution_queue": []
 }
}